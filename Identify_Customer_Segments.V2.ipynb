{
 "cells": [
  {
   "cell_type": "markdown",
   "metadata": {},
   "source": [
    "# Project: Identify Customer Segments\n",
    "\n",
    "In this project, you will apply unsupervised learning techniques to identify segments of the population that form the core customer base for a mail-order sales company in Germany. These segments can then be used to direct marketing campaigns towards audiences that will have the highest expected rate of returns. The data that you will use has been provided by our partners at Bertelsmann Arvato Analytics, and represents a real-life data science task.\n",
    "\n",
    "This notebook will help you complete this task by providing a framework within which you will perform your analysis steps. In each step of the project, you will see some text describing the subtask that you will perform, followed by one or more code cells for you to complete your work. **Feel free to add additional code and markdown cells as you go along so that you can explore everything in precise chunks.** The code cells provided in the base template will outline only the major tasks, and will usually not be enough to cover all of the minor tasks that comprise it.\n",
    "\n",
    "It should be noted that while there will be precise guidelines on how you should handle certain tasks in the project, there will also be places where an exact specification is not provided. **There will be times in the project where you will need to make and justify your own decisions on how to treat the data.** These are places where there may not be only one way to handle the data. In real-life tasks, there may be many valid ways to approach an analysis task. One of the most important things you can do is clearly document your approach so that other scientists can understand the decisions you've made.\n",
    "\n",
    "At the end of most sections, there will be a Markdown cell labeled **Discussion**. In these cells, you will report your findings for the completed section, as well as document the decisions that you made in your approach to each subtask. **Your project will be evaluated not just on the code used to complete the tasks outlined, but also your communication about your observations and conclusions at each stage.**"
   ]
  },
  {
   "cell_type": "code",
   "execution_count": 10,
   "metadata": {},
   "outputs": [
    {
     "data": {
      "text/plain": [
       "'\\nImport note: The classroom currently uses sklearn version 0.19.\\nIf you need to use an imputer, it is available in sklearn.preprocessing.Imputer,\\ninstead of sklearn.impute as in newer versions of sklearn.\\n'"
      ]
     },
     "execution_count": 10,
     "metadata": {},
     "output_type": "execute_result"
    }
   ],
   "source": [
    "# import libraries here; add more as necessary\n",
    "import numpy as np\n",
    "import pandas as pd\n",
    "import matplotlib.pyplot as plt\n",
    "import seaborn as sns\n",
    "from sklearn.preprocessing import StandardScaler, Imputer\n",
    "from sklearn.decomposition import PCA\n",
    "from sklearn.cluster import KMeans\n",
    "\n",
    "# magic word for producing visualizations in notebook\n",
    "%matplotlib inline\n",
    "\n",
    "'''\n",
    "Import note: The classroom currently uses sklearn version 0.19.\n",
    "If you need to use an imputer, it is available in sklearn.preprocessing.Imputer,\n",
    "instead of sklearn.impute as in newer versions of sklearn.\n",
    "'''"
   ]
  },
  {
   "cell_type": "markdown",
   "metadata": {},
   "source": [
    "### Step 0: Load the Data\n",
    "\n",
    "There are four files associated with this project (not including this one):\n",
    "\n",
    "- `Udacity_AZDIAS_Subset.csv`: Demographics data for the general population of Germany; 891211 persons (rows) x 85 features (columns).\n",
    "- `Udacity_CUSTOMERS_Subset.csv`: Demographics data for customers of a mail-order company; 191652 persons (rows) x 85 features (columns).\n",
    "- `Data_Dictionary.md`: Detailed information file about the features in the provided datasets.\n",
    "- `AZDIAS_Feature_Summary.csv`: Summary of feature attributes for demographics data; 85 features (rows) x 4 columns\n",
    "\n",
    "Each row of the demographics files represents a single person, but also includes information outside of individuals, including information about their household, building, and neighborhood. You will use this information to cluster the general population into groups with similar demographic properties. Then, you will see how the people in the customers dataset fit into those created clusters. The hope here is that certain clusters are over-represented in the customers data, as compared to the general population; those over-represented clusters will be assumed to be part of the core userbase. This information can then be used for further applications, such as targeting for a marketing campaign.\n",
    "\n",
    "To start off with, load in the demographics data for the general population into a pandas DataFrame, and do the same for the feature attributes summary. Note for all of the `.csv` data files in this project: they're semicolon (`;`) delimited, so you'll need an additional argument in your [`read_csv()`](https://pandas.pydata.org/pandas-docs/stable/generated/pandas.read_csv.html) call to read in the data properly. Also, considering the size of the main dataset, it may take some time for it to load completely.\n",
    "\n",
    "Once the dataset is loaded, it's recommended that you take a little bit of time just browsing the general structure of the dataset and feature summary file. You'll be getting deep into the innards of the cleaning in the first major step of the project, so gaining some general familiarity can help you get your bearings."
   ]
  },
  {
   "cell_type": "code",
   "execution_count": 2,
   "metadata": {},
   "outputs": [],
   "source": [
    "# Load in the general demographics data.\n",
    "azdias = pd.read_csv('Udacity_AZDIAS_Subset.csv', sep=';')\n",
    "\n",
    "# Load in the feature summary file.\n",
    "feat_info = pd.read_csv('AZDIAS_Feature_Summary.csv', sep=';')"
   ]
  },
  {
   "cell_type": "code",
   "execution_count": 3,
   "metadata": {},
   "outputs": [
    {
     "data": {
      "text/plain": [
       "((891221, 85), (85, 4))"
      ]
     },
     "execution_count": 3,
     "metadata": {},
     "output_type": "execute_result"
    }
   ],
   "source": [
    "# Check the structure of the data after it's loaded (e.g. print the number of\n",
    "# rows and columns, print the first few rows).\n",
    "azdias.shape, feat_info.shape"
   ]
  },
  {
   "cell_type": "code",
   "execution_count": 4,
   "metadata": {
    "scrolled": true
   },
   "outputs": [
    {
     "data": {
      "text/html": [
       "<div>\n",
       "<style scoped>\n",
       "    .dataframe tbody tr th:only-of-type {\n",
       "        vertical-align: middle;\n",
       "    }\n",
       "\n",
       "    .dataframe tbody tr th {\n",
       "        vertical-align: top;\n",
       "    }\n",
       "\n",
       "    .dataframe thead th {\n",
       "        text-align: right;\n",
       "    }\n",
       "</style>\n",
       "<table border=\"1\" class=\"dataframe\">\n",
       "  <thead>\n",
       "    <tr style=\"text-align: right;\">\n",
       "      <th></th>\n",
       "      <th>attribute</th>\n",
       "      <th>information_level</th>\n",
       "      <th>type</th>\n",
       "      <th>missing_or_unknown</th>\n",
       "    </tr>\n",
       "  </thead>\n",
       "  <tbody>\n",
       "    <tr>\n",
       "      <th>0</th>\n",
       "      <td>AGER_TYP</td>\n",
       "      <td>person</td>\n",
       "      <td>categorical</td>\n",
       "      <td>[-1,0]</td>\n",
       "    </tr>\n",
       "    <tr>\n",
       "      <th>1</th>\n",
       "      <td>ALTERSKATEGORIE_GROB</td>\n",
       "      <td>person</td>\n",
       "      <td>ordinal</td>\n",
       "      <td>[-1,0,9]</td>\n",
       "    </tr>\n",
       "    <tr>\n",
       "      <th>2</th>\n",
       "      <td>ANREDE_KZ</td>\n",
       "      <td>person</td>\n",
       "      <td>categorical</td>\n",
       "      <td>[-1,0]</td>\n",
       "    </tr>\n",
       "    <tr>\n",
       "      <th>3</th>\n",
       "      <td>CJT_GESAMTTYP</td>\n",
       "      <td>person</td>\n",
       "      <td>categorical</td>\n",
       "      <td>[0]</td>\n",
       "    </tr>\n",
       "    <tr>\n",
       "      <th>4</th>\n",
       "      <td>FINANZ_MINIMALIST</td>\n",
       "      <td>person</td>\n",
       "      <td>ordinal</td>\n",
       "      <td>[-1]</td>\n",
       "    </tr>\n",
       "    <tr>\n",
       "      <th>5</th>\n",
       "      <td>FINANZ_SPARER</td>\n",
       "      <td>person</td>\n",
       "      <td>ordinal</td>\n",
       "      <td>[-1]</td>\n",
       "    </tr>\n",
       "    <tr>\n",
       "      <th>6</th>\n",
       "      <td>FINANZ_VORSORGER</td>\n",
       "      <td>person</td>\n",
       "      <td>ordinal</td>\n",
       "      <td>[-1]</td>\n",
       "    </tr>\n",
       "    <tr>\n",
       "      <th>7</th>\n",
       "      <td>FINANZ_ANLEGER</td>\n",
       "      <td>person</td>\n",
       "      <td>ordinal</td>\n",
       "      <td>[-1]</td>\n",
       "    </tr>\n",
       "    <tr>\n",
       "      <th>8</th>\n",
       "      <td>FINANZ_UNAUFFAELLIGER</td>\n",
       "      <td>person</td>\n",
       "      <td>ordinal</td>\n",
       "      <td>[-1]</td>\n",
       "    </tr>\n",
       "    <tr>\n",
       "      <th>9</th>\n",
       "      <td>FINANZ_HAUSBAUER</td>\n",
       "      <td>person</td>\n",
       "      <td>ordinal</td>\n",
       "      <td>[-1]</td>\n",
       "    </tr>\n",
       "    <tr>\n",
       "      <th>10</th>\n",
       "      <td>FINANZTYP</td>\n",
       "      <td>person</td>\n",
       "      <td>categorical</td>\n",
       "      <td>[-1]</td>\n",
       "    </tr>\n",
       "    <tr>\n",
       "      <th>11</th>\n",
       "      <td>GEBURTSJAHR</td>\n",
       "      <td>person</td>\n",
       "      <td>numeric</td>\n",
       "      <td>[0]</td>\n",
       "    </tr>\n",
       "    <tr>\n",
       "      <th>12</th>\n",
       "      <td>GFK_URLAUBERTYP</td>\n",
       "      <td>person</td>\n",
       "      <td>categorical</td>\n",
       "      <td>[]</td>\n",
       "    </tr>\n",
       "    <tr>\n",
       "      <th>13</th>\n",
       "      <td>GREEN_AVANTGARDE</td>\n",
       "      <td>person</td>\n",
       "      <td>categorical</td>\n",
       "      <td>[]</td>\n",
       "    </tr>\n",
       "    <tr>\n",
       "      <th>14</th>\n",
       "      <td>HEALTH_TYP</td>\n",
       "      <td>person</td>\n",
       "      <td>ordinal</td>\n",
       "      <td>[-1,0]</td>\n",
       "    </tr>\n",
       "    <tr>\n",
       "      <th>15</th>\n",
       "      <td>LP_LEBENSPHASE_FEIN</td>\n",
       "      <td>person</td>\n",
       "      <td>mixed</td>\n",
       "      <td>[0]</td>\n",
       "    </tr>\n",
       "    <tr>\n",
       "      <th>16</th>\n",
       "      <td>LP_LEBENSPHASE_GROB</td>\n",
       "      <td>person</td>\n",
       "      <td>mixed</td>\n",
       "      <td>[0]</td>\n",
       "    </tr>\n",
       "    <tr>\n",
       "      <th>17</th>\n",
       "      <td>LP_FAMILIE_FEIN</td>\n",
       "      <td>person</td>\n",
       "      <td>categorical</td>\n",
       "      <td>[0]</td>\n",
       "    </tr>\n",
       "    <tr>\n",
       "      <th>18</th>\n",
       "      <td>LP_FAMILIE_GROB</td>\n",
       "      <td>person</td>\n",
       "      <td>categorical</td>\n",
       "      <td>[0]</td>\n",
       "    </tr>\n",
       "    <tr>\n",
       "      <th>19</th>\n",
       "      <td>LP_STATUS_FEIN</td>\n",
       "      <td>person</td>\n",
       "      <td>categorical</td>\n",
       "      <td>[0]</td>\n",
       "    </tr>\n",
       "  </tbody>\n",
       "</table>\n",
       "</div>"
      ],
      "text/plain": [
       "                attribute information_level         type missing_or_unknown\n",
       "0                AGER_TYP            person  categorical             [-1,0]\n",
       "1    ALTERSKATEGORIE_GROB            person      ordinal           [-1,0,9]\n",
       "2               ANREDE_KZ            person  categorical             [-1,0]\n",
       "3           CJT_GESAMTTYP            person  categorical                [0]\n",
       "4       FINANZ_MINIMALIST            person      ordinal               [-1]\n",
       "5           FINANZ_SPARER            person      ordinal               [-1]\n",
       "6        FINANZ_VORSORGER            person      ordinal               [-1]\n",
       "7          FINANZ_ANLEGER            person      ordinal               [-1]\n",
       "8   FINANZ_UNAUFFAELLIGER            person      ordinal               [-1]\n",
       "9        FINANZ_HAUSBAUER            person      ordinal               [-1]\n",
       "10              FINANZTYP            person  categorical               [-1]\n",
       "11            GEBURTSJAHR            person      numeric                [0]\n",
       "12        GFK_URLAUBERTYP            person  categorical                 []\n",
       "13       GREEN_AVANTGARDE            person  categorical                 []\n",
       "14             HEALTH_TYP            person      ordinal             [-1,0]\n",
       "15    LP_LEBENSPHASE_FEIN            person        mixed                [0]\n",
       "16    LP_LEBENSPHASE_GROB            person        mixed                [0]\n",
       "17        LP_FAMILIE_FEIN            person  categorical                [0]\n",
       "18        LP_FAMILIE_GROB            person  categorical                [0]\n",
       "19         LP_STATUS_FEIN            person  categorical                [0]"
      ]
     },
     "execution_count": 4,
     "metadata": {},
     "output_type": "execute_result"
    }
   ],
   "source": [
    "feat_info.head(20)"
   ]
  },
  {
   "cell_type": "code",
   "execution_count": 25,
   "metadata": {},
   "outputs": [
    {
     "data": {
      "text/html": [
       "<div>\n",
       "<style scoped>\n",
       "    .dataframe tbody tr th:only-of-type {\n",
       "        vertical-align: middle;\n",
       "    }\n",
       "\n",
       "    .dataframe tbody tr th {\n",
       "        vertical-align: top;\n",
       "    }\n",
       "\n",
       "    .dataframe thead th {\n",
       "        text-align: right;\n",
       "    }\n",
       "</style>\n",
       "<table border=\"1\" class=\"dataframe\">\n",
       "  <thead>\n",
       "    <tr style=\"text-align: right;\">\n",
       "      <th></th>\n",
       "      <th>AGER_TYP</th>\n",
       "      <th>ALTERSKATEGORIE_GROB</th>\n",
       "      <th>ANREDE_KZ</th>\n",
       "      <th>CJT_GESAMTTYP</th>\n",
       "      <th>FINANZ_MINIMALIST</th>\n",
       "      <th>FINANZ_SPARER</th>\n",
       "      <th>FINANZ_VORSORGER</th>\n",
       "      <th>FINANZ_ANLEGER</th>\n",
       "      <th>FINANZ_UNAUFFAELLIGER</th>\n",
       "      <th>FINANZ_HAUSBAUER</th>\n",
       "      <th>...</th>\n",
       "      <th>PLZ8_ANTG1</th>\n",
       "      <th>PLZ8_ANTG2</th>\n",
       "      <th>PLZ8_ANTG3</th>\n",
       "      <th>PLZ8_ANTG4</th>\n",
       "      <th>PLZ8_BAUMAX</th>\n",
       "      <th>PLZ8_HHZ</th>\n",
       "      <th>PLZ8_GBZ</th>\n",
       "      <th>ARBEIT</th>\n",
       "      <th>ORTSGR_KLS9</th>\n",
       "      <th>RELAT_AB</th>\n",
       "    </tr>\n",
       "  </thead>\n",
       "  <tbody>\n",
       "    <tr>\n",
       "      <th>0</th>\n",
       "      <td>-1</td>\n",
       "      <td>2</td>\n",
       "      <td>1</td>\n",
       "      <td>2.0</td>\n",
       "      <td>3</td>\n",
       "      <td>4</td>\n",
       "      <td>3</td>\n",
       "      <td>5</td>\n",
       "      <td>5</td>\n",
       "      <td>3</td>\n",
       "      <td>...</td>\n",
       "      <td>NaN</td>\n",
       "      <td>NaN</td>\n",
       "      <td>NaN</td>\n",
       "      <td>NaN</td>\n",
       "      <td>NaN</td>\n",
       "      <td>NaN</td>\n",
       "      <td>NaN</td>\n",
       "      <td>NaN</td>\n",
       "      <td>NaN</td>\n",
       "      <td>NaN</td>\n",
       "    </tr>\n",
       "    <tr>\n",
       "      <th>1</th>\n",
       "      <td>-1</td>\n",
       "      <td>1</td>\n",
       "      <td>2</td>\n",
       "      <td>5.0</td>\n",
       "      <td>1</td>\n",
       "      <td>5</td>\n",
       "      <td>2</td>\n",
       "      <td>5</td>\n",
       "      <td>4</td>\n",
       "      <td>5</td>\n",
       "      <td>...</td>\n",
       "      <td>2.0</td>\n",
       "      <td>3.0</td>\n",
       "      <td>2.0</td>\n",
       "      <td>1.0</td>\n",
       "      <td>1.0</td>\n",
       "      <td>5.0</td>\n",
       "      <td>4.0</td>\n",
       "      <td>3.0</td>\n",
       "      <td>5.0</td>\n",
       "      <td>4.0</td>\n",
       "    </tr>\n",
       "    <tr>\n",
       "      <th>2</th>\n",
       "      <td>-1</td>\n",
       "      <td>3</td>\n",
       "      <td>2</td>\n",
       "      <td>3.0</td>\n",
       "      <td>1</td>\n",
       "      <td>4</td>\n",
       "      <td>1</td>\n",
       "      <td>2</td>\n",
       "      <td>3</td>\n",
       "      <td>5</td>\n",
       "      <td>...</td>\n",
       "      <td>3.0</td>\n",
       "      <td>3.0</td>\n",
       "      <td>1.0</td>\n",
       "      <td>0.0</td>\n",
       "      <td>1.0</td>\n",
       "      <td>4.0</td>\n",
       "      <td>4.0</td>\n",
       "      <td>3.0</td>\n",
       "      <td>5.0</td>\n",
       "      <td>2.0</td>\n",
       "    </tr>\n",
       "  </tbody>\n",
       "</table>\n",
       "<p>3 rows × 85 columns</p>\n",
       "</div>"
      ],
      "text/plain": [
       "   AGER_TYP  ALTERSKATEGORIE_GROB  ANREDE_KZ  CJT_GESAMTTYP  \\\n",
       "0        -1                     2          1            2.0   \n",
       "1        -1                     1          2            5.0   \n",
       "2        -1                     3          2            3.0   \n",
       "\n",
       "   FINANZ_MINIMALIST  FINANZ_SPARER  FINANZ_VORSORGER  FINANZ_ANLEGER  \\\n",
       "0                  3              4                 3               5   \n",
       "1                  1              5                 2               5   \n",
       "2                  1              4                 1               2   \n",
       "\n",
       "   FINANZ_UNAUFFAELLIGER  FINANZ_HAUSBAUER    ...     PLZ8_ANTG1  PLZ8_ANTG2  \\\n",
       "0                      5                 3    ...            NaN         NaN   \n",
       "1                      4                 5    ...            2.0         3.0   \n",
       "2                      3                 5    ...            3.0         3.0   \n",
       "\n",
       "   PLZ8_ANTG3  PLZ8_ANTG4  PLZ8_BAUMAX  PLZ8_HHZ  PLZ8_GBZ  ARBEIT  \\\n",
       "0         NaN         NaN          NaN       NaN       NaN     NaN   \n",
       "1         2.0         1.0          1.0       5.0       4.0     3.0   \n",
       "2         1.0         0.0          1.0       4.0       4.0     3.0   \n",
       "\n",
       "   ORTSGR_KLS9  RELAT_AB  \n",
       "0          NaN       NaN  \n",
       "1          5.0       4.0  \n",
       "2          5.0       2.0  \n",
       "\n",
       "[3 rows x 85 columns]"
      ]
     },
     "execution_count": 25,
     "metadata": {},
     "output_type": "execute_result"
    }
   ],
   "source": [
    "azdias.head(3)"
   ]
  },
  {
   "cell_type": "markdown",
   "metadata": {},
   "source": [
    "> **Tip**: Add additional cells to keep everything in reasonably-sized chunks! Keyboard shortcut `esc --> a` (press escape to enter command mode, then press the 'A' key) adds a new cell before the active cell, and `esc --> b` adds a new cell after the active cell. If you need to convert an active cell to a markdown cell, use `esc --> m` and to convert to a code cell, use `esc --> y`. \n",
    "\n",
    "## Step 1: Preprocessing\n",
    "\n",
    "### Step 1.1: Assess Missing Data\n",
    "\n",
    "The feature summary file contains a summary of properties for each demographics data column. You will use this file to help you make cleaning decisions during this stage of the project. First of all, you should assess the demographics data in terms of missing data. Pay attention to the following points as you perform your analysis, and take notes on what you observe. Make sure that you fill in the **Discussion** cell with your findings and decisions at the end of each step that has one!\n",
    "\n",
    "#### Step 1.1.1: Convert Missing Value Codes to NaNs\n",
    "The fourth column of the feature attributes summary (loaded in above as `feat_info`) documents the codes from the data dictionary that indicate missing or unknown data. While the file encodes this as a list (e.g. `[-1,0]`), this will get read in as a string object. You'll need to do a little bit of parsing to make use of it to identify and clean the data. Convert data that matches a 'missing' or 'unknown' value code into a numpy NaN value. You might want to see how much data takes on a 'missing' or 'unknown' code, and how much data is naturally missing, as a point of interest.\n",
    "\n",
    "**As one more reminder, you are encouraged to add additional cells to break up your analysis into manageable chunks.**"
   ]
  },
  {
   "cell_type": "code",
   "execution_count": 26,
   "metadata": {},
   "outputs": [
    {
     "data": {
      "text/plain": [
       "AGER_TYP                      0\n",
       "ALTERSKATEGORIE_GROB          0\n",
       "ANREDE_KZ                     0\n",
       "CJT_GESAMTTYP              4854\n",
       "FINANZ_MINIMALIST             0\n",
       "FINANZ_SPARER                 0\n",
       "FINANZ_VORSORGER              0\n",
       "FINANZ_ANLEGER                0\n",
       "FINANZ_UNAUFFAELLIGER         0\n",
       "FINANZ_HAUSBAUER              0\n",
       "FINANZTYP                     0\n",
       "GEBURTSJAHR                   0\n",
       "GFK_URLAUBERTYP            4854\n",
       "GREEN_AVANTGARDE              0\n",
       "HEALTH_TYP                    0\n",
       "LP_LEBENSPHASE_FEIN        4854\n",
       "LP_LEBENSPHASE_GROB        4854\n",
       "LP_FAMILIE_FEIN            4854\n",
       "LP_FAMILIE_GROB            4854\n",
       "LP_STATUS_FEIN             4854\n",
       "LP_STATUS_GROB             4854\n",
       "NATIONALITAET_KZ              0\n",
       "PRAEGENDE_JUGENDJAHRE         0\n",
       "RETOURTYP_BK_S             4854\n",
       "SEMIO_SOZ                     0\n",
       "SEMIO_FAM                     0\n",
       "SEMIO_REL                     0\n",
       "SEMIO_MAT                     0\n",
       "SEMIO_VERT                    0\n",
       "SEMIO_LUST                    0\n",
       "                          ...  \n",
       "OST_WEST_KZ               93148\n",
       "WOHNLAGE                  93148\n",
       "CAMEO_DEUG_2015           98979\n",
       "CAMEO_DEU_2015            98979\n",
       "CAMEO_INTL_2015           98979\n",
       "KBA05_ANTG1              133324\n",
       "KBA05_ANTG2              133324\n",
       "KBA05_ANTG3              133324\n",
       "KBA05_ANTG4              133324\n",
       "KBA05_BAUMAX             133324\n",
       "KBA05_GBZ                133324\n",
       "BALLRAUM                  93740\n",
       "EWDICHTE                  93740\n",
       "INNENSTADT                93740\n",
       "GEBAEUDETYP_RASTER        93155\n",
       "KKK                      121196\n",
       "MOBI_REGIO               133324\n",
       "ONLINE_AFFINITAET          4854\n",
       "REGIOTYP                 121196\n",
       "KBA13_ANZAHL_PKW         105800\n",
       "PLZ8_ANTG1               116515\n",
       "PLZ8_ANTG2               116515\n",
       "PLZ8_ANTG3               116515\n",
       "PLZ8_ANTG4               116515\n",
       "PLZ8_BAUMAX              116515\n",
       "PLZ8_HHZ                 116515\n",
       "PLZ8_GBZ                 116515\n",
       "ARBEIT                    97216\n",
       "ORTSGR_KLS9               97216\n",
       "RELAT_AB                  97216\n",
       "Length: 85, dtype: int64"
      ]
     },
     "execution_count": 26,
     "metadata": {},
     "output_type": "execute_result"
    }
   ],
   "source": [
    "# Identify missing or unknown data values.\n",
    "azdias.isnull().sum()\n"
   ]
  },
  {
   "cell_type": "code",
   "execution_count": 28,
   "metadata": {},
   "outputs": [
    {
     "name": "stdout",
     "output_type": "stream",
     "text": [
      "<class 'pandas.core.frame.DataFrame'>\n",
      "RangeIndex: 891221 entries, 0 to 891220\n",
      "Data columns (total 85 columns):\n",
      "AGER_TYP                 891221 non-null int64\n",
      "ALTERSKATEGORIE_GROB     891221 non-null int64\n",
      "ANREDE_KZ                891221 non-null int64\n",
      "CJT_GESAMTTYP            886367 non-null float64\n",
      "FINANZ_MINIMALIST        891221 non-null int64\n",
      "FINANZ_SPARER            891221 non-null int64\n",
      "FINANZ_VORSORGER         891221 non-null int64\n",
      "FINANZ_ANLEGER           891221 non-null int64\n",
      "FINANZ_UNAUFFAELLIGER    891221 non-null int64\n",
      "FINANZ_HAUSBAUER         891221 non-null int64\n",
      "FINANZTYP                891221 non-null int64\n",
      "GEBURTSJAHR              891221 non-null int64\n",
      "GFK_URLAUBERTYP          886367 non-null float64\n",
      "GREEN_AVANTGARDE         891221 non-null int64\n",
      "HEALTH_TYP               891221 non-null int64\n",
      "LP_LEBENSPHASE_FEIN      886367 non-null float64\n",
      "LP_LEBENSPHASE_GROB      886367 non-null float64\n",
      "LP_FAMILIE_FEIN          886367 non-null float64\n",
      "LP_FAMILIE_GROB          886367 non-null float64\n",
      "LP_STATUS_FEIN           886367 non-null float64\n",
      "LP_STATUS_GROB           886367 non-null float64\n",
      "NATIONALITAET_KZ         891221 non-null int64\n",
      "PRAEGENDE_JUGENDJAHRE    891221 non-null int64\n",
      "RETOURTYP_BK_S           886367 non-null float64\n",
      "SEMIO_SOZ                891221 non-null int64\n",
      "SEMIO_FAM                891221 non-null int64\n",
      "SEMIO_REL                891221 non-null int64\n",
      "SEMIO_MAT                891221 non-null int64\n",
      "SEMIO_VERT               891221 non-null int64\n",
      "SEMIO_LUST               891221 non-null int64\n",
      "SEMIO_ERL                891221 non-null int64\n",
      "SEMIO_KULT               891221 non-null int64\n",
      "SEMIO_RAT                891221 non-null int64\n",
      "SEMIO_KRIT               891221 non-null int64\n",
      "SEMIO_DOM                891221 non-null int64\n",
      "SEMIO_KAEM               891221 non-null int64\n",
      "SEMIO_PFLICHT            891221 non-null int64\n",
      "SEMIO_TRADV              891221 non-null int64\n",
      "SHOPPER_TYP              891221 non-null int64\n",
      "SOHO_KZ                  817722 non-null float64\n",
      "TITEL_KZ                 817722 non-null float64\n",
      "VERS_TYP                 891221 non-null int64\n",
      "ZABEOTYP                 891221 non-null int64\n",
      "ALTER_HH                 817722 non-null float64\n",
      "ANZ_PERSONEN             817722 non-null float64\n",
      "ANZ_TITEL                817722 non-null float64\n",
      "HH_EINKOMMEN_SCORE       872873 non-null float64\n",
      "KK_KUNDENTYP             306609 non-null float64\n",
      "W_KEIT_KIND_HH           783619 non-null float64\n",
      "WOHNDAUER_2008           817722 non-null float64\n",
      "ANZ_HAUSHALTE_AKTIV      798073 non-null float64\n",
      "ANZ_HH_TITEL             794213 non-null float64\n",
      "GEBAEUDETYP              798073 non-null float64\n",
      "KONSUMNAEHE              817252 non-null float64\n",
      "MIN_GEBAEUDEJAHR         798073 non-null float64\n",
      "OST_WEST_KZ              798073 non-null object\n",
      "WOHNLAGE                 798073 non-null float64\n",
      "CAMEO_DEUG_2015          792242 non-null object\n",
      "CAMEO_DEU_2015           792242 non-null object\n",
      "CAMEO_INTL_2015          792242 non-null object\n",
      "KBA05_ANTG1              757897 non-null float64\n",
      "KBA05_ANTG2              757897 non-null float64\n",
      "KBA05_ANTG3              757897 non-null float64\n",
      "KBA05_ANTG4              757897 non-null float64\n",
      "KBA05_BAUMAX             757897 non-null float64\n",
      "KBA05_GBZ                757897 non-null float64\n",
      "BALLRAUM                 797481 non-null float64\n",
      "EWDICHTE                 797481 non-null float64\n",
      "INNENSTADT               797481 non-null float64\n",
      "GEBAEUDETYP_RASTER       798066 non-null float64\n",
      "KKK                      770025 non-null float64\n",
      "MOBI_REGIO               757897 non-null float64\n",
      "ONLINE_AFFINITAET        886367 non-null float64\n",
      "REGIOTYP                 770025 non-null float64\n",
      "KBA13_ANZAHL_PKW         785421 non-null float64\n",
      "PLZ8_ANTG1               774706 non-null float64\n",
      "PLZ8_ANTG2               774706 non-null float64\n",
      "PLZ8_ANTG3               774706 non-null float64\n",
      "PLZ8_ANTG4               774706 non-null float64\n",
      "PLZ8_BAUMAX              774706 non-null float64\n",
      "PLZ8_HHZ                 774706 non-null float64\n",
      "PLZ8_GBZ                 774706 non-null float64\n",
      "ARBEIT                   794005 non-null float64\n",
      "ORTSGR_KLS9              794005 non-null float64\n",
      "RELAT_AB                 794005 non-null float64\n",
      "dtypes: float64(49), int64(32), object(4)\n",
      "memory usage: 578.0+ MB\n"
     ]
    }
   ],
   "source": [
    "azdias.info()"
   ]
  },
  {
   "cell_type": "code",
   "execution_count": 3,
   "metadata": {},
   "outputs": [
    {
     "data": {
      "text/plain": [
       "4896838"
      ]
     },
     "execution_count": 3,
     "metadata": {},
     "output_type": "execute_result"
    }
   ],
   "source": [
    "# Naturally missing values (before conversion)\n",
    "azdias.isnull().sum().sum()"
   ]
  },
  {
   "cell_type": "code",
   "execution_count": 14,
   "metadata": {},
   "outputs": [],
   "source": [
    "\n",
    "# Convert to NaNs\n",
    "for i in range(len(feat_info)):\n",
    "    missing_or_unknown_values = feat_info.iloc[i]['missing_or_unknown']\n",
    "    missing_or_unknown_values = missing_or_unknown_values.strip(']')\n",
    "    missing_or_unknown_values = missing_or_unknown_values.strip('[')\n",
    "    missing_or_unknown_values = missing_or_unknown_values.split(sep=',')\n",
    "    missing_or_unknown_values = [int(value) if (value!='' and value!='X' and value!='XX') else value for value in missing_or_unknown_values]\n",
    "    if missing_or_unknown_values != ['']:\n",
    "        azdias = azdias.replace({feat_info.iloc[i]['attribute']: missing_or_unknown_values}, np.nan)"
   ]
  },
  {
   "cell_type": "code",
   "execution_count": 7,
   "metadata": {},
   "outputs": [
    {
     "data": {
      "text/plain": [
       "8373929"
      ]
     },
     "execution_count": 7,
     "metadata": {},
     "output_type": "execute_result"
    }
   ],
   "source": [
    "# Missing values after conversion\n",
    "azdias.isnull().sum().sum()"
   ]
  },
  {
   "cell_type": "markdown",
   "metadata": {},
   "source": [
    "#### Step 1.1.2: Assess Missing Data in Each Column\n",
    "\n",
    "How much missing data is present in each column? There are a few columns that are outliers in terms of the proportion of values that are missing. You will want to use matplotlib's [`hist()`](https://matplotlib.org/api/_as_gen/matplotlib.pyplot.hist.html) function to visualize the distribution of missing value counts to find these columns. Identify and document these columns. While some of these columns might have justifications for keeping or re-encoding the data, for this project you should just remove them from the dataframe. (Feel free to make remarks about these outlier columns in the discussion, however!)\n",
    "\n",
    "For the remaining features, are there any patterns in which columns have, or share, missing data?"
   ]
  },
  {
   "cell_type": "code",
   "execution_count": 24,
   "metadata": {},
   "outputs": [],
   "source": [
    "# Proportion of missing data in each column.\n",
    "prop_missing_per_column =(azdias.isnull().sum()/len(azdias))*100"
   ]
  },
  {
   "cell_type": "code",
   "execution_count": 25,
   "metadata": {},
   "outputs": [
    {
     "data": {
      "image/png": "[encoded data removed]",
      "text/plain": [
       "<matplotlib.figure.Figure at 0x7f152785c780>"
      ]
     },
     "metadata": {
      "needs_background": "light"
     },
     "output_type": "display_data"
    }
   ],
   "source": [
    "# Investigate patterns in the amount of missing data in each column.\n",
    "plt.hist(prop_missing_per_column, bins = 25)\n",
    "plt.ylabel('Column Count')\n",
    "plt.xlabel('Proportion of Missing Values')\n",
    "plt.grid(True);"
   ]
  },
  {
   "cell_type": "code",
   "execution_count": 26,
   "metadata": {
    "scrolled": true
   },
   "outputs": [],
   "source": [
    "# Identifying columns with more than 20% of values missing\n",
    "greater_than_20_missing = prop_missing_per_column[prop_missing_per_column>20]"
   ]
  },
  {
   "cell_type": "code",
   "execution_count": 27,
   "metadata": {},
   "outputs": [
    {
     "data": {
      "text/plain": [
       "(891221, 79)"
      ]
     },
     "execution_count": 27,
     "metadata": {},
     "output_type": "execute_result"
    }
   ],
   "source": [
    "# Remove the outlier columns from the dataset. \n",
    "outlier_columns = greater_than_20_missing.index.tolist()\n",
    "azdias = azdias.drop(outlier_columns, axis=1)\n",
    "azdias.shape"
   ]
  },
  {
   "cell_type": "code",
   "execution_count": 28,
   "metadata": {},
   "outputs": [
    {
     "data": {
      "text/plain": [
       "AGER_TYP        76.955435\n",
       "GEBURTSJAHR     44.020282\n",
       "TITEL_KZ        99.757636\n",
       "ALTER_HH        34.813699\n",
       "KK_KUNDENTYP    65.596749\n",
       "KBA05_BAUMAX    53.468668\n",
       "dtype: float64"
      ]
     },
     "execution_count": 28,
     "metadata": {},
     "output_type": "execute_result"
    }
   ],
   "source": [
    "greater_than_20_missing"
   ]
  },
  {
   "cell_type": "markdown",
   "metadata": {},
   "source": [
    "#### Discussion 1.1.2: Assess Missing Data in Each Column\n",
    "\n",
    "From the list above we see there are 6 columns with large portions of data missing. From a low of 34.81% to as much as 99.76%. Columns with large portions of data missing makes analysis difficlut, so I set a threshold of 20% to classify outliers. The above columns in the greater_than_20_missing list have been removed."
   ]
  },
  {
   "cell_type": "markdown",
   "metadata": {},
   "source": [
    "#### Step 1.1.3: Assess Missing Data in Each Row\n",
    "\n",
    "Now, you'll perform a similar assessment for the rows of the dataset. How much data is missing in each row? As with the columns, you should see some groups of points that have a very different numbers of missing values. Divide the data into two subsets: one for data points that are above some threshold for missing values, and a second subset for points below that threshold.\n",
    "\n",
    "In order to know what to do with the outlier rows, we should see if the distribution of data values on columns that are not missing data (or are missing very little data) are similar or different between the two groups. Select at least five of these columns and compare the distribution of values.\n",
    "- You can use seaborn's [`countplot()`](https://seaborn.pydata.org/generated/seaborn.countplot.html) function to create a bar chart of code frequencies and matplotlib's [`subplot()`](https://matplotlib.org/api/_as_gen/matplotlib.pyplot.subplot.html) function to put bar charts for the two subplots side by side.\n",
    "- To reduce repeated code, you might want to write a function that can perform this comparison, taking as one of its arguments a column to be compared.\n",
    "\n",
    "Depending on what you observe in your comparison, this will have implications on how you approach your conclusions later in the analysis. If the distributions of non-missing features look similar between the data with many missing values and the data with few or no missing values, then we could argue that simply dropping those points from the analysis won't present a major issue. On the other hand, if the data with many missing values looks very different from the data with few or no missing values, then we should make a note on those data as special. We'll revisit these data later on. **Either way, you should continue your analysis for now using just the subset of the data with few or no missing values.**"
   ]
  },
  {
   "cell_type": "code",
   "execution_count": 29,
   "metadata": {},
   "outputs": [
    {
     "data": {
      "image/png": "[encoded data removed]",
      "text/plain": [
       "<matplotlib.figure.Figure at 0x7f152ee97470>"
      ]
     },
     "metadata": {
      "needs_background": "light"
     },
     "output_type": "display_data"
    }
   ],
   "source": [
    "#Proportion of missing values in rows.\n",
    "prop_missing_per_row= (azdias.isnull().sum(axis= 1)/azdias.shape[1])*100\n",
    "plt.hist(prop_missing_per_row, bins=25)\n",
    "plt.ylabel('Row Count')\n",
    "plt.xlabel('Proportion of Missing Values')\n",
    "plt.grid(True);"
   ]
  },
  {
   "cell_type": "code",
   "execution_count": 30,
   "metadata": {
    "scrolled": true
   },
   "outputs": [
    {
     "data": {
      "image/png": "[encoded data removed]",
      "text/plain": [
       "<matplotlib.figure.Figure at 0x7f152ed7a668>"
      ]
     },
     "metadata": {
      "needs_background": "light"
     },
     "output_type": "display_data"
    }
   ],
   "source": [
    "# How much data is missing in each row of the dataset? (count)\n",
    "num_missing_per_row= azdias.isnull().sum(axis= 1)\n",
    "plt.hist(num_missing_per_row, bins=25)\n",
    "plt.ylabel('Row Count')\n",
    "plt.xlabel('Number of Missing Values')\n",
    "plt.grid(True);"
   ]
  },
  {
   "cell_type": "code",
   "execution_count": 31,
   "metadata": {},
   "outputs": [],
   "source": [
    "# Write code to divide the data into two subsets based on the number of missing\n",
    "# values in each row.\n",
    "missing_rvals_less_30 = azdias[azdias.isnull().sum(axis=1) < 30].reset_index(drop=True)\n",
    "missing_rvals_greater_30 = azdias[azdias.isnull().sum(axis=1) >= 30].reset_index(drop=True)\n"
   ]
  },
  {
   "cell_type": "code",
   "execution_count": 32,
   "metadata": {
    "scrolled": true
   },
   "outputs": [
    {
     "data": {
      "text/plain": [
       "['ANREDE_KZ',\n",
       " 'FINANZ_MINIMALIST',\n",
       " 'FINANZ_SPARER',\n",
       " 'FINANZ_VORSORGER',\n",
       " 'FINANZ_ANLEGER']"
      ]
     },
     "execution_count": 32,
     "metadata": {},
     "output_type": "execute_result"
    }
   ],
   "source": [
    "# picking columns to compare\n",
    "none_missing = prop_missing_per_column[prop_missing_per_column==0].index.tolist()\n",
    "columns_to_compare = none_missing[:5]\n",
    "columns_to_compare"
   ]
  },
  {
   "cell_type": "code",
   "execution_count": 11,
   "metadata": {},
   "outputs": [],
   "source": [
    "# Compare the distribution of values for at least five columns where there are\n",
    "# no or few missing values, between the two subsets.\n",
    "def compare_columns (column):\n",
    "    fig, (ax1, ax2) = plt.subplots(1, 2)\n",
    "    fig.set_figwidth(15)\n",
    "    ax1.set_title('missing less than 30 values')\n",
    "    sns.countplot(azdias.loc[missing_rvals_less_30.index,column],ax=ax1)\n",
    "\n",
    "    ax2.set_title('missing more than 30 values')\n",
    "    sns.countplot(azdias.loc[missing_rvals_greater_30.index,column],ax=ax2)"
   ]
  },
  {
   "cell_type": "code",
   "execution_count": 58,
   "metadata": {},
   "outputs": [
    {
     "data": {
      "image/png": "[encoded data removed]",
      "text/plain": [
       "<matplotlib.figure.Figure at 0x7fbc51f29c88>"
      ]
     },
     "metadata": {
      "needs_background": "light"
     },
     "output_type": "display_data"
    },
    {
     "data": {
      "image/png": "[encoded data removed]",
      "text/plain": [
       "<matplotlib.figure.Figure at 0x7fbc6aa03518>"
      ]
     },
     "metadata": {
      "needs_background": "light"
     },
     "output_type": "display_data"
    },
    {
     "data": {
      "image/png": "[encoded data removed]",
      "text/plain": [
       "<matplotlib.figure.Figure at 0x7fbc6aa256a0>"
      ]
     },
     "metadata": {
      "needs_background": "light"
     },
     "output_type": "display_data"
    },
    {
     "data": {
      "image/png": "[encoded data removed]",
      "text/plain": [
       "<matplotlib.figure.Figure at 0x7fbc6aa72f28>"
      ]
     },
     "metadata": {
      "needs_background": "light"
     },
     "output_type": "display_data"
    },
    {
     "data": {
      "image/png": "[encoded data removed]",
      "text/plain": [
       "<matplotlib.figure.Figure at 0x7fbc6aa547f0>"
      ]
     },
     "metadata": {
      "needs_background": "light"
     },
     "output_type": "display_data"
    }
   ],
   "source": [
    "for column in columns_to_compare:\n",
    "    compare_columns(column)"
   ]
  },
  {
   "cell_type": "markdown",
   "metadata": {},
   "source": [
    "#### Discussion 1.1.3: Assess Missing Data in Each Row\n",
    "\n",
    "After reviewing the proportion and count of missing data in rows, I decided to divide the dataset into 2 subsets using a threshold of 30. One subset for less than 30 missing values and one for 30 or greater. Looking at the 2 sets of graphs for the 5 columns, the shape is very similar from one subet to another, so it is likely safe to drop those rows."
   ]
  },
  {
   "cell_type": "markdown",
   "metadata": {},
   "source": [
    "### Step 1.2: Select and Re-Encode Features\n",
    "\n",
    "Checking for missing data isn't the only way in which you can prepare a dataset for analysis. Since the unsupervised learning techniques to be used will only work on data that is encoded numerically, you need to make a few encoding changes or additional assumptions to be able to make progress. In addition, while almost all of the values in the dataset are encoded using numbers, not all of them represent numeric values. Check the third column of the feature summary (`feat_info`) for a summary of types of measurement.\n",
    "- For numeric and interval data, these features can be kept without changes.\n",
    "- Most of the variables in the dataset are ordinal in nature. While ordinal values may technically be non-linear in spacing, make the simplifying assumption that the ordinal variables can be treated as being interval in nature (that is, kept without any changes).\n",
    "- Special handling may be necessary for the remaining two variable types: categorical, and 'mixed'.\n",
    "\n",
    "In the first two parts of this sub-step, you will perform an investigation of the categorical and mixed-type features and make a decision on each of them, whether you will keep, drop, or re-encode each. Then, in the last part, you will create a new data frame with only the selected and engineered columns.\n",
    "\n",
    "Data wrangling is often the trickiest part of the data analysis process, and there's a lot of it to be done here. But stick with it: once you're done with this step, you'll be ready to get to the machine learning parts of the project!"
   ]
  },
  {
   "cell_type": "code",
   "execution_count": 33,
   "metadata": {},
   "outputs": [
    {
     "data": {
      "text/plain": [
       "ordinal        49\n",
       "categorical    18\n",
       "numeric         6\n",
       "mixed           6\n",
       "Name: type, dtype: int64"
      ]
     },
     "execution_count": 33,
     "metadata": {},
     "output_type": "execute_result"
    }
   ],
   "source": [
    "# How many features are there of each data type?\n",
    "feat_info2=feat_info[feat_info.attribute.isin(missing_rvals_less_30.columns)]\n",
    "feat_info2.type.value_counts()"
   ]
  },
  {
   "cell_type": "markdown",
   "metadata": {},
   "source": [
    "#### Step 1.2.1: Re-Encode Categorical Features\n",
    "\n",
    "For categorical data, you would ordinarily need to encode the levels as dummy variables. Depending on the number of categories, perform one of the following:\n",
    "- For binary (two-level) categoricals that take numeric values, you can keep them without needing to do anything.\n",
    "- There is one binary variable that takes on non-numeric values. For this one, you need to re-encode the values as numbers or create a dummy variable.\n",
    "- For multi-level categoricals (three or more values), you can choose to encode the values using multiple dummy variables (e.g. via [OneHotEncoder](http://scikit-learn.org/stable/modules/generated/sklearn.preprocessing.OneHotEncoder.html)), or (to keep things straightforward) just drop them from the analysis. As always, document your choices in the Discussion section."
   ]
  },
  {
   "cell_type": "code",
   "execution_count": 34,
   "metadata": {},
   "outputs": [
    {
     "data": {
      "text/plain": [
       "2            ANREDE_KZ\n",
       "3        CJT_GESAMTTYP\n",
       "10           FINANZTYP\n",
       "12     GFK_URLAUBERTYP\n",
       "13    GREEN_AVANTGARDE\n",
       "17     LP_FAMILIE_FEIN\n",
       "18     LP_FAMILIE_GROB\n",
       "19      LP_STATUS_FEIN\n",
       "20      LP_STATUS_GROB\n",
       "21    NATIONALITAET_KZ\n",
       "38         SHOPPER_TYP\n",
       "39             SOHO_KZ\n",
       "41            VERS_TYP\n",
       "42            ZABEOTYP\n",
       "52         GEBAEUDETYP\n",
       "55         OST_WEST_KZ\n",
       "57     CAMEO_DEUG_2015\n",
       "58      CAMEO_DEU_2015\n",
       "Name: attribute, dtype: object"
      ]
     },
     "execution_count": 34,
     "metadata": {},
     "output_type": "execute_result"
    }
   ],
   "source": [
    "# Isolating categorical columns\n",
    "cat_feat = feat_info2 [feat_info2 ['type'] =='categorical']['attribute']\n",
    "cat_feat"
   ]
  },
  {
   "cell_type": "code",
   "execution_count": 27,
   "metadata": {},
   "outputs": [],
   "source": [
    "# Assess categorical variables: which are binary, which are multi-level, and\n",
    "# which one needs to be re-encoded?\n",
    "binary_cats = []\n",
    "multi_level_cats=[]\n",
    "for feature in cat_feat:\n",
    "        if missing_rvals_less_30[feature].nunique()==2:\n",
    "            binary_cats.append(feature)\n",
    "        else:\n",
    "            multi_level_cats.append(feature)"
   ]
  },
  {
   "cell_type": "code",
   "execution_count": 28,
   "metadata": {},
   "outputs": [
    {
     "data": {
      "text/plain": [
       "['ANREDE_KZ', 'GREEN_AVANTGARDE', 'SOHO_KZ', 'VERS_TYP', 'OST_WEST_KZ']"
      ]
     },
     "execution_count": 28,
     "metadata": {},
     "output_type": "execute_result"
    }
   ],
   "source": [
    "binary_cats"
   ]
  },
  {
   "cell_type": "code",
   "execution_count": 29,
   "metadata": {},
   "outputs": [
    {
     "name": "stdout",
     "output_type": "stream",
     "text": [
      "4.0    198295\n",
      "3.0    147220\n",
      "2.0    141269\n",
      "5.0    111114\n",
      "6.0    102107\n",
      "1.0     93311\n",
      "Name: CJT_GESAMTTYP, dtype: int64\n",
      "6    289061\n",
      "1    197171\n",
      "5    106332\n",
      "2    104773\n",
      "4     55922\n",
      "3     44802\n",
      "Name: FINANZTYP, dtype: int64\n",
      "12.0    130261\n",
      "10.0    102831\n",
      "8.0      83030\n",
      "11.0     75103\n",
      "5.0      70501\n",
      "4.0      60422\n",
      "9.0      57131\n",
      "3.0      53101\n",
      "1.0      50659\n",
      "2.0      43857\n",
      "7.0      40681\n",
      "6.0      25739\n",
      "Name: GFK_URLAUBERTYP, dtype: int64\n",
      "1.0     402556\n",
      "10.0    128974\n",
      "2.0      98555\n",
      "11.0     48746\n",
      "8.0      21780\n",
      "7.0      19575\n",
      "4.0      11574\n",
      "5.0      11167\n",
      "9.0      10452\n",
      "6.0       8526\n",
      "3.0       4688\n",
      "Name: LP_FAMILIE_FEIN, dtype: int64\n",
      "1.0    402556\n",
      "5.0    188172\n",
      "2.0     98555\n",
      "4.0     49881\n",
      "3.0     27429\n",
      "Name: LP_FAMILIE_GROB, dtype: int64\n",
      "1.0     206853\n",
      "9.0     136353\n",
      "10.0    111574\n",
      "2.0     111118\n",
      "4.0      73973\n",
      "3.0      68918\n",
      "6.0      28896\n",
      "5.0      27592\n",
      "8.0      18835\n",
      "7.0       9204\n",
      "Name: LP_STATUS_FEIN, dtype: int64\n",
      "1.0    317971\n",
      "2.0    170483\n",
      "4.0    155188\n",
      "5.0    111574\n",
      "3.0     38100\n",
      "Name: LP_STATUS_GROB, dtype: int64\n",
      "1.0    667927\n",
      "2.0     63651\n",
      "3.0     32565\n",
      "Name: NATIONALITAET_KZ, dtype: int64\n",
      "1.0    247413\n",
      "2.0    205934\n",
      "3.0    180865\n",
      "0.0    127128\n",
      "Name: SHOPPER_TYP, dtype: int64\n",
      "3    282240\n",
      "4    207531\n",
      "1    123457\n",
      "5     80962\n",
      "6     70866\n",
      "2     33005\n",
      "Name: ZABEOTYP, dtype: int64\n",
      "1.0    460460\n",
      "3.0    178666\n",
      "8.0    152474\n",
      "2.0      4932\n",
      "4.0       900\n",
      "6.0       628\n",
      "5.0         1\n",
      "Name: GEBAEUDETYP, dtype: int64\n",
      "8    134441\n",
      "9    108177\n",
      "6    105874\n",
      "4    103911\n",
      "3     86776\n",
      "2     83230\n",
      "7     77933\n",
      "5     55309\n",
      "1     36212\n",
      "Name: CAMEO_DEUG_2015, dtype: int64\n",
      "6B    56672\n",
      "8A    52438\n",
      "4C    47819\n",
      "2D    35074\n",
      "3C    34768\n",
      "7A    34399\n",
      "3D    34305\n",
      "8B    33434\n",
      "4A    33154\n",
      "8C    30993\n",
      "9D    28593\n",
      "9B    27676\n",
      "9C    24987\n",
      "7B    24503\n",
      "9A    20542\n",
      "2C    19422\n",
      "8D    17576\n",
      "6E    16107\n",
      "2B    15485\n",
      "5D    14943\n",
      "6C    14820\n",
      "2A    13249\n",
      "5A    12213\n",
      "1D    11909\n",
      "1A    10850\n",
      "3A    10543\n",
      "5B    10354\n",
      "5C     9935\n",
      "7C     9065\n",
      "4B     9047\n",
      "4D     8570\n",
      "3B     7160\n",
      "6A     6810\n",
      "9E     6379\n",
      "6D     6073\n",
      "6F     5392\n",
      "7D     5333\n",
      "4E     5321\n",
      "1E     5065\n",
      "7E     4633\n",
      "1C     4317\n",
      "5F     4283\n",
      "1B     4071\n",
      "5E     3581\n",
      "Name: CAMEO_DEU_2015, dtype: int64\n"
     ]
    }
   ],
   "source": [
    "# Values in multi-level columns\n",
    "for column in multi_level_cats:\n",
    "    print(missing_rvals_less_30[column].value_counts())"
   ]
  },
  {
   "cell_type": "code",
   "execution_count": 30,
   "metadata": {
    "scrolled": false
   },
   "outputs": [
    {
     "name": "stdout",
     "output_type": "stream",
     "text": [
      "2    416177\n",
      "1    381884\n",
      "Name: ANREDE_KZ, dtype: int64\n",
      "0    622836\n",
      "1    175225\n",
      "Name: GREEN_AVANTGARDE, dtype: int64\n",
      "0.0    791344\n",
      "1.0      6717\n",
      "Name: SOHO_KZ, dtype: int64\n",
      "2.0    394238\n",
      "1.0    367102\n",
      "Name: VERS_TYP, dtype: int64\n",
      "W    629520\n",
      "O    168541\n",
      "Name: OST_WEST_KZ, dtype: int64\n"
     ]
    }
   ],
   "source": [
    "# values in binary columns\n",
    "for column in binary_cats:\n",
    "    print(missing_rvals_less_30[column].value_counts())"
   ]
  },
  {
   "cell_type": "code",
   "execution_count": 31,
   "metadata": {},
   "outputs": [
    {
     "data": {
      "text/plain": [
       "1    629520\n",
       "0    168541\n",
       "Name: OST_WEST_KZ, dtype: int64"
      ]
     },
     "execution_count": 31,
     "metadata": {},
     "output_type": "execute_result"
    }
   ],
   "source": [
    "# Re-encoding values as numbers\n",
    "missing_rvals_less_30.OST_WEST_KZ = missing_rvals_less_30.OST_WEST_KZ.replace ({'O': 0,'W': 1})\n",
    "missing_rvals_less_30['OST_WEST_KZ'].value_counts()"
   ]
  },
  {
   "cell_type": "code",
   "execution_count": 33,
   "metadata": {},
   "outputs": [
    {
     "data": {
      "text/plain": [
       "(798061, 194)"
      ]
     },
     "execution_count": 33,
     "metadata": {},
     "output_type": "execute_result"
    }
   ],
   "source": [
    "# Re-encode categorical variable(s) to be kept in the analysis.\n",
    "# Use new data frame in case I change my mind. \n",
    "rmrl_30=pd.get_dummies(data=missing_rvals_less_30, columns=multi_level_cats)\n",
    "rmrl_30.shape"
   ]
  },
  {
   "cell_type": "markdown",
   "metadata": {},
   "source": [
    "#### Discussion 1.2.1: Re-Encode Categorical Features\n",
    "\n",
    "I left the numeric binary categories alone. 'OST_WEST_KZ' is binary, but was encoded with text. I replaced the text characters with 0 and 1. For the multi-level catagorical variables I used get_dummies to re-encode as to not lose that data. "
   ]
  },
  {
   "cell_type": "markdown",
   "metadata": {},
   "source": [
    "#### Step 1.2.2: Engineer Mixed-Type Features\n",
    "\n",
    "There are a handful of features that are marked as \"mixed\" in the feature summary that require special treatment in order to be included in the analysis. There are two in particular that deserve attention; the handling of the rest are up to your own choices:\n",
    "- \"PRAEGENDE_JUGENDJAHRE\" combines information on three dimensions: generation by decade, movement (mainstream vs. avantgarde), and nation (east vs. west). While there aren't enough levels to disentangle east from west, you should create two new variables to capture the other two dimensions: an interval-type variable for decade, and a binary variable for movement.\n",
    "- \"CAMEO_INTL_2015\" combines information on two axes: wealth and life stage. Break up the two-digit codes by their 'tens'-place and 'ones'-place digits into two new ordinal variables (which, for the purposes of this project, is equivalent to just treating them as their raw numeric values).\n",
    "- If you decide to keep or engineer new features around the other mixed-type features, make sure you note your steps in the Discussion section.\n",
    "\n",
    "Be sure to check `Data_Dictionary.md` for the details needed to finish these tasks."
   ]
  },
  {
   "cell_type": "code",
   "execution_count": 34,
   "metadata": {
    "scrolled": true
   },
   "outputs": [
    {
     "data": {
      "text/html": [
       "<div>\n",
       "<style scoped>\n",
       "    .dataframe tbody tr th:only-of-type {\n",
       "        vertical-align: middle;\n",
       "    }\n",
       "\n",
       "    .dataframe tbody tr th {\n",
       "        vertical-align: top;\n",
       "    }\n",
       "\n",
       "    .dataframe thead th {\n",
       "        text-align: right;\n",
       "    }\n",
       "</style>\n",
       "<table border=\"1\" class=\"dataframe\">\n",
       "  <thead>\n",
       "    <tr style=\"text-align: right;\">\n",
       "      <th></th>\n",
       "      <th>PRAEGENDE_JUGENDJAHRE</th>\n",
       "    </tr>\n",
       "  </thead>\n",
       "  <tbody>\n",
       "    <tr>\n",
       "      <th>0</th>\n",
       "      <td>14.0</td>\n",
       "    </tr>\n",
       "    <tr>\n",
       "      <th>1</th>\n",
       "      <td>15.0</td>\n",
       "    </tr>\n",
       "    <tr>\n",
       "      <th>2</th>\n",
       "      <td>8.0</td>\n",
       "    </tr>\n",
       "    <tr>\n",
       "      <th>3</th>\n",
       "      <td>8.0</td>\n",
       "    </tr>\n",
       "    <tr>\n",
       "      <th>4</th>\n",
       "      <td>3.0</td>\n",
       "    </tr>\n",
       "  </tbody>\n",
       "</table>\n",
       "</div>"
      ],
      "text/plain": [
       "   PRAEGENDE_JUGENDJAHRE\n",
       "0                   14.0\n",
       "1                   15.0\n",
       "2                    8.0\n",
       "3                    8.0\n",
       "4                    3.0"
      ]
     },
     "execution_count": 34,
     "metadata": {},
     "output_type": "execute_result"
    }
   ],
   "source": [
    "# Investigate \"PRAEGENDE_JUGENDJAHRE\" and engineer two new variables.\n",
    "rmrl_30[['PRAEGENDE_JUGENDJAHRE']].head()"
   ]
  },
  {
   "cell_type": "code",
   "execution_count": 35,
   "metadata": {},
   "outputs": [],
   "source": [
    "# Create 2 new columns. 1 for binary Avantegarde vs Mainstream and another \n",
    "# multi-level categorical for Decade\n",
    "rmrl_30['PRAEGENDE_JUGENDJAHRE_AM'] = rmrl_30['PRAEGENDE_JUGENDJAHRE']\n",
    "rmrl_30['PRAEGENDE_JUGENDJAHRE_DEC'] = rmrl_30['PRAEGENDE_JUGENDJAHRE']"
   ]
  },
  {
   "cell_type": "code",
   "execution_count": 36,
   "metadata": {},
   "outputs": [],
   "source": [
    "dict_dec = {1:40, 2:40, 3:50, 4:50, 5:60, 6:60, 7:60, 8:70, 9:70, 10:80, 11:80, 12:80, 13:80, 14:90, 15:90}\n",
    "dict_am = {1:1, 2:0, 3:1, 4:0, 5:1, 6:0, 7:0, 8:1, 9:0, 10:1, 11:0, 12:1, 13:0, 14:1, 15:0}"
   ]
  },
  {
   "cell_type": "code",
   "execution_count": 37,
   "metadata": {},
   "outputs": [],
   "source": [
    "# Replace with decade and Avantgarde/ mainstream\n",
    "rmrl_30.PRAEGENDE_JUGENDJAHRE_DEC = rmrl_30.PRAEGENDE_JUGENDJAHRE_DEC.replace (dict_dec)\n",
    "rmrl_30.PRAEGENDE_JUGENDJAHRE_AM = rmrl_30.PRAEGENDE_JUGENDJAHRE_AM.replace (dict_am)"
   ]
  },
  {
   "cell_type": "code",
   "execution_count": 38,
   "metadata": {},
   "outputs": [],
   "source": [
    "# drop original PRAEGENDE_JUGENDJAHRE column\n",
    "rmrl_30.drop(\"PRAEGENDE_JUGENDJAHRE\",axis=1,inplace=True)"
   ]
  },
  {
   "cell_type": "code",
   "execution_count": 39,
   "metadata": {},
   "outputs": [
    {
     "data": {
      "text/html": [
       "<div>\n",
       "<style scoped>\n",
       "    .dataframe tbody tr th:only-of-type {\n",
       "        vertical-align: middle;\n",
       "    }\n",
       "\n",
       "    .dataframe tbody tr th {\n",
       "        vertical-align: top;\n",
       "    }\n",
       "\n",
       "    .dataframe thead th {\n",
       "        text-align: right;\n",
       "    }\n",
       "</style>\n",
       "<table border=\"1\" class=\"dataframe\">\n",
       "  <thead>\n",
       "    <tr style=\"text-align: right;\">\n",
       "      <th></th>\n",
       "      <th>PRAEGENDE_JUGENDJAHRE_AM</th>\n",
       "      <th>PRAEGENDE_JUGENDJAHRE_DEC</th>\n",
       "    </tr>\n",
       "  </thead>\n",
       "  <tbody>\n",
       "    <tr>\n",
       "      <th>0</th>\n",
       "      <td>1.0</td>\n",
       "      <td>90.0</td>\n",
       "    </tr>\n",
       "    <tr>\n",
       "      <th>1</th>\n",
       "      <td>0.0</td>\n",
       "      <td>90.0</td>\n",
       "    </tr>\n",
       "    <tr>\n",
       "      <th>2</th>\n",
       "      <td>1.0</td>\n",
       "      <td>70.0</td>\n",
       "    </tr>\n",
       "    <tr>\n",
       "      <th>3</th>\n",
       "      <td>1.0</td>\n",
       "      <td>70.0</td>\n",
       "    </tr>\n",
       "    <tr>\n",
       "      <th>4</th>\n",
       "      <td>1.0</td>\n",
       "      <td>50.0</td>\n",
       "    </tr>\n",
       "  </tbody>\n",
       "</table>\n",
       "</div>"
      ],
      "text/plain": [
       "   PRAEGENDE_JUGENDJAHRE_AM  PRAEGENDE_JUGENDJAHRE_DEC\n",
       "0                       1.0                       90.0\n",
       "1                       0.0                       90.0\n",
       "2                       1.0                       70.0\n",
       "3                       1.0                       70.0\n",
       "4                       1.0                       50.0"
      ]
     },
     "execution_count": 39,
     "metadata": {},
     "output_type": "execute_result"
    }
   ],
   "source": [
    "rmrl_30[['PRAEGENDE_JUGENDJAHRE_AM','PRAEGENDE_JUGENDJAHRE_DEC']]. head()"
   ]
  },
  {
   "cell_type": "code",
   "execution_count": 40,
   "metadata": {},
   "outputs": [
    {
     "data": {
      "text/html": [
       "<div>\n",
       "<style scoped>\n",
       "    .dataframe tbody tr th:only-of-type {\n",
       "        vertical-align: middle;\n",
       "    }\n",
       "\n",
       "    .dataframe tbody tr th {\n",
       "        vertical-align: top;\n",
       "    }\n",
       "\n",
       "    .dataframe thead th {\n",
       "        text-align: right;\n",
       "    }\n",
       "</style>\n",
       "<table border=\"1\" class=\"dataframe\">\n",
       "  <thead>\n",
       "    <tr style=\"text-align: right;\">\n",
       "      <th></th>\n",
       "      <th>CAMEO_INTL_2015</th>\n",
       "    </tr>\n",
       "  </thead>\n",
       "  <tbody>\n",
       "    <tr>\n",
       "      <th>0</th>\n",
       "      <td>51</td>\n",
       "    </tr>\n",
       "    <tr>\n",
       "      <th>1</th>\n",
       "      <td>24</td>\n",
       "    </tr>\n",
       "    <tr>\n",
       "      <th>2</th>\n",
       "      <td>12</td>\n",
       "    </tr>\n",
       "    <tr>\n",
       "      <th>3</th>\n",
       "      <td>43</td>\n",
       "    </tr>\n",
       "    <tr>\n",
       "      <th>4</th>\n",
       "      <td>54</td>\n",
       "    </tr>\n",
       "  </tbody>\n",
       "</table>\n",
       "</div>"
      ],
      "text/plain": [
       "  CAMEO_INTL_2015\n",
       "0              51\n",
       "1              24\n",
       "2              12\n",
       "3              43\n",
       "4              54"
      ]
     },
     "execution_count": 40,
     "metadata": {},
     "output_type": "execute_result"
    }
   ],
   "source": [
    "# Investigate \"CAMEO_INTL_2015\" and engineer two new variables.\n",
    "rmrl_30[['CAMEO_INTL_2015']].head()"
   ]
  },
  {
   "cell_type": "code",
   "execution_count": 41,
   "metadata": {},
   "outputs": [],
   "source": [
    "wealth_dict= {'11':1,'12':1,'13':1,'14':1,'15':1,\n",
    "                '21':2,'22':2,'23':2,'24':2,'25':2,\n",
    "                '31':3,'32':3,'33':3,'34':3,'35':3,\n",
    "                '41':4,'42':4,'43':4,'44':4,'45':4,\n",
    "                '51':5,'52':5,'53':5,'54':5,'55':5\n",
    "                }\n",
    "lifestage_dict= {'11':1,'12':2,'13':3,'14':4,'15':5,\n",
    "                '21':1,'22':2,'23':3,'24':4,'25':5,\n",
    "                '31':1,'32':2,'33':4,'34':4,'35':5,\n",
    "                '41':1,'42':2,'43':3,'44':4,'45':5,\n",
    "                '51':1,'52':2,'53':3,'54':4,'55':5\n",
    "                }"
   ]
  },
  {
   "cell_type": "code",
   "execution_count": 42,
   "metadata": {},
   "outputs": [],
   "source": [
    "#Create separated columns for life stage and affluence level\n",
    "rmrl_30['CAMEO_INTL_2015_W'] = rmrl_30['CAMEO_INTL_2015']\n",
    "rmrl_30['CAMEO_INTL_2015_LS'] = rmrl_30['CAMEO_INTL_2015']\n",
    "rmrl_30.CAMEO_INTL_2015_W = rmrl_30.CAMEO_INTL_2015_W.replace(wealth_dict)  \n",
    "rmrl_30.CAMEO_INTL_2015_LS = rmrl_30.CAMEO_INTL_2015_LS.replace(lifestage_dict)"
   ]
  },
  {
   "cell_type": "code",
   "execution_count": 43,
   "metadata": {},
   "outputs": [],
   "source": [
    "# drop original CAMEO_INTL_2015 column\n",
    "rmrl_30.drop(\"CAMEO_INTL_2015\", axis=1, inplace=True)"
   ]
  },
  {
   "cell_type": "code",
   "execution_count": 44,
   "metadata": {},
   "outputs": [
    {
     "data": {
      "text/html": [
       "<div>\n",
       "<style scoped>\n",
       "    .dataframe tbody tr th:only-of-type {\n",
       "        vertical-align: middle;\n",
       "    }\n",
       "\n",
       "    .dataframe tbody tr th {\n",
       "        vertical-align: top;\n",
       "    }\n",
       "\n",
       "    .dataframe thead th {\n",
       "        text-align: right;\n",
       "    }\n",
       "</style>\n",
       "<table border=\"1\" class=\"dataframe\">\n",
       "  <thead>\n",
       "    <tr style=\"text-align: right;\">\n",
       "      <th></th>\n",
       "      <th>CAMEO_INTL_2015_W</th>\n",
       "      <th>CAMEO_INTL_2015_LS</th>\n",
       "    </tr>\n",
       "  </thead>\n",
       "  <tbody>\n",
       "    <tr>\n",
       "      <th>0</th>\n",
       "      <td>5.0</td>\n",
       "      <td>1.0</td>\n",
       "    </tr>\n",
       "    <tr>\n",
       "      <th>1</th>\n",
       "      <td>2.0</td>\n",
       "      <td>4.0</td>\n",
       "    </tr>\n",
       "    <tr>\n",
       "      <th>2</th>\n",
       "      <td>1.0</td>\n",
       "      <td>2.0</td>\n",
       "    </tr>\n",
       "    <tr>\n",
       "      <th>3</th>\n",
       "      <td>4.0</td>\n",
       "      <td>3.0</td>\n",
       "    </tr>\n",
       "    <tr>\n",
       "      <th>4</th>\n",
       "      <td>5.0</td>\n",
       "      <td>4.0</td>\n",
       "    </tr>\n",
       "  </tbody>\n",
       "</table>\n",
       "</div>"
      ],
      "text/plain": [
       "   CAMEO_INTL_2015_W  CAMEO_INTL_2015_LS\n",
       "0                5.0                 1.0\n",
       "1                2.0                 4.0\n",
       "2                1.0                 2.0\n",
       "3                4.0                 3.0\n",
       "4                5.0                 4.0"
      ]
     },
     "execution_count": 44,
     "metadata": {},
     "output_type": "execute_result"
    }
   ],
   "source": [
    "rmrl_30[['CAMEO_INTL_2015_W', 'CAMEO_INTL_2015_LS']].head()"
   ]
  },
  {
   "cell_type": "markdown",
   "metadata": {},
   "source": [
    "#### Discussion 1.2.2: Engineer Mixed-Type Features\n",
    "\n",
    "(Double-click this cell and replace this text with your own text, reporting your findings and decisions regarding mixed-value features. Which ones did you keep, which did you drop, and what engineering steps did you perform?)\n",
    "\n",
    "\"PRAEGENDE_JUGENDJAHRE\" was divided into 2 features: movement type and decade. As stated in the note above \"there aren't enough levels to disentangle east from west\", so that was discarded. \n",
    "\"CAMEO_INTL_2015\" was also divided into 2 columns: One for wealth and another for lifestage. \n",
    "The process for the re-encoding of each was very similar:\n",
    "1. Create 2 new columns for the new features.\n",
    "2. Create a dictionary for each new feature with the appropriate mapping.\n",
    "3. Replace the existing values with the values dictated by the dictionaries. \n",
    "4. Drop the original columns from which the new features were extracted. "
   ]
  },
  {
   "cell_type": "markdown",
   "metadata": {},
   "source": [
    "#### Step 1.2.3: Complete Feature Selection\n",
    "\n",
    "In order to finish this step up, you need to make sure that your data frame now only has the columns that you want to keep. To summarize, the dataframe should consist of the following:\n",
    "- All numeric, interval, and ordinal type columns from the original dataset.\n",
    "- Binary categorical features (all numerically-encoded).\n",
    "- Engineered features from other multi-level categorical features and mixed features.\n",
    "\n",
    "Make sure that for any new columns that you have engineered, that you've excluded the original columns from the final dataset. Otherwise, their values will interfere with the analysis later on the project. For example, you should not keep \"PRAEGENDE_JUGENDJAHRE\", since its values won't be useful for the algorithm: only the values derived from it in the engineered features you created should be retained. As a reminder, your data should only be from **the subset with few or no missing values**."
   ]
  },
  {
   "cell_type": "code",
   "execution_count": 45,
   "metadata": {},
   "outputs": [
    {
     "data": {
      "text/html": [
       "<div>\n",
       "<style scoped>\n",
       "    .dataframe tbody tr th:only-of-type {\n",
       "        vertical-align: middle;\n",
       "    }\n",
       "\n",
       "    .dataframe tbody tr th {\n",
       "        vertical-align: top;\n",
       "    }\n",
       "\n",
       "    .dataframe thead th {\n",
       "        text-align: right;\n",
       "    }\n",
       "</style>\n",
       "<table border=\"1\" class=\"dataframe\">\n",
       "  <thead>\n",
       "    <tr style=\"text-align: right;\">\n",
       "      <th></th>\n",
       "      <th>attribute</th>\n",
       "      <th>information_level</th>\n",
       "      <th>type</th>\n",
       "      <th>missing_or_unknown</th>\n",
       "    </tr>\n",
       "  </thead>\n",
       "  <tbody>\n",
       "    <tr>\n",
       "      <th>15</th>\n",
       "      <td>LP_LEBENSPHASE_FEIN</td>\n",
       "      <td>person</td>\n",
       "      <td>mixed</td>\n",
       "      <td>[0]</td>\n",
       "    </tr>\n",
       "    <tr>\n",
       "      <th>16</th>\n",
       "      <td>LP_LEBENSPHASE_GROB</td>\n",
       "      <td>person</td>\n",
       "      <td>mixed</td>\n",
       "      <td>[0]</td>\n",
       "    </tr>\n",
       "    <tr>\n",
       "      <th>22</th>\n",
       "      <td>PRAEGENDE_JUGENDJAHRE</td>\n",
       "      <td>person</td>\n",
       "      <td>mixed</td>\n",
       "      <td>[-1,0]</td>\n",
       "    </tr>\n",
       "    <tr>\n",
       "      <th>56</th>\n",
       "      <td>WOHNLAGE</td>\n",
       "      <td>building</td>\n",
       "      <td>mixed</td>\n",
       "      <td>[-1]</td>\n",
       "    </tr>\n",
       "    <tr>\n",
       "      <th>59</th>\n",
       "      <td>CAMEO_INTL_2015</td>\n",
       "      <td>microcell_rr4</td>\n",
       "      <td>mixed</td>\n",
       "      <td>[-1,XX]</td>\n",
       "    </tr>\n",
       "    <tr>\n",
       "      <th>79</th>\n",
       "      <td>PLZ8_BAUMAX</td>\n",
       "      <td>macrocell_plz8</td>\n",
       "      <td>mixed</td>\n",
       "      <td>[-1,0]</td>\n",
       "    </tr>\n",
       "  </tbody>\n",
       "</table>\n",
       "</div>"
      ],
      "text/plain": [
       "                attribute information_level   type missing_or_unknown\n",
       "15    LP_LEBENSPHASE_FEIN            person  mixed                [0]\n",
       "16    LP_LEBENSPHASE_GROB            person  mixed                [0]\n",
       "22  PRAEGENDE_JUGENDJAHRE            person  mixed             [-1,0]\n",
       "56               WOHNLAGE          building  mixed               [-1]\n",
       "59        CAMEO_INTL_2015     microcell_rr4  mixed            [-1,XX]\n",
       "79            PLZ8_BAUMAX    macrocell_plz8  mixed             [-1,0]"
      ]
     },
     "execution_count": 45,
     "metadata": {},
     "output_type": "execute_result"
    }
   ],
   "source": [
    "# If there are other re-engineering tasks you need to perform, make sure you\n",
    "# take care of them here. (Dealing with missing data will come in step 2.1.)\n",
    "feat_info2 [feat_info2 ['type'] =='mixed']\n"
   ]
  },
  {
   "cell_type": "code",
   "execution_count": 46,
   "metadata": {},
   "outputs": [],
   "source": [
    "# Do whatever you need to in order to ensure that the dataframe only contains\n",
    "# the columns that should be passed to the algorithm functions.\n",
    "mixed_features = feat_info2[feat_info2[\"type\"]==\"mixed\"][\"attribute\"]\n",
    "for feature in mixed_features:\n",
    "    if feature in rmrl_30.columns:\n",
    "        rmrl_30.drop(feature, axis=1, inplace=True)"
   ]
  },
  {
   "cell_type": "markdown",
   "metadata": {},
   "source": [
    "### Step 1.3: Create a Cleaning Function\n",
    "\n",
    "Even though you've finished cleaning up the general population demographics data, it's important to look ahead to the future and realize that you'll need to perform the same cleaning steps on the customer demographics data. In this substep, complete the function below to execute the main feature selection, encoding, and re-engineering steps you performed above. Then, when it comes to looking at the customer data in Step 3, you can just run this function on that DataFrame to get the trimmed dataset in a single step."
   ]
  },
  {
   "cell_type": "code",
   "execution_count": 36,
   "metadata": {},
   "outputs": [],
   "source": [
    "def clean_data(df, feat_info):\n",
    "    \"\"\"\n",
    "    Perform feature trimming, re-encoding, and engineering for demographics\n",
    "    data\n",
    "    \n",
    "    INPUT: Demographics DataFrame\n",
    "    OUTPUT: Trimmed and cleaned demographics DataFrame\n",
    "    \"\"\"\n",
    "    \n",
    "    # Put in code here to execute all main cleaning steps:\n",
    "    # convert missing value codes into NaNs, ...\n",
    "    for i in range(len(feat_info)):\n",
    "        missing_or_unknown_values = feat_info.iloc[i]['missing_or_unknown']\n",
    "        missing_or_unknown_values = missing_or_unknown_values.strip(']')\n",
    "        missing_or_unknown_values = missing_or_unknown_values.strip('[')\n",
    "        missing_or_unknown_values = missing_or_unknown_values.split(sep=',')\n",
    "        missing_or_unknown_values = [int(value) if (value!='' and value!='X' and value!='XX') else value for value in missing_or_unknown_values]\n",
    "        if missing_or_unknown_values != ['']:\n",
    "            df = df.replace({feat_info.iloc[i]['attribute']: missing_or_unknown_values}, np.nan)\n",
    "        \n",
    "    for col in df.columns:\n",
    "        df = df.replace({col: ['XX', 'X']}, np.nan)\n",
    "        \n",
    "    \n",
    "    # remove selected columns and rows\n",
    "    # Columns:\n",
    "    columns= ['ALTER_HH', 'GEBURTSJAHR', 'KBA05_BAUMAX', 'KK_KUNDENTYP', 'AGER_TYP','TITEL_KZ']\n",
    "    df.drop(columns=columns,axis=\"columns\",inplace=True)\n",
    "    \n",
    "    # Rows\n",
    "    # divide into 2 subsets\n",
    "    missing_rvals_less_30 = df[df.isnull().sum(axis=1) < 30].reset_index(drop=True)\n",
    "    missing_rvals_greater_30 = df[df.isnull().sum(axis=1) >= 30].reset_index(drop=True)\n",
    "    \n",
    "    #drop rows with high missing values\n",
    "    df = df[df.isnull().sum(axis=1) < 30]\n",
    "    \n",
    "    # select, re-encode, and engineer column values.\n",
    "    feat_info=feat_info[feat_info.attribute.isin(missing_rvals_less_30.columns)]\n",
    "    categorical_vars=feat_info[feat_info.type==\"categorical\"]\n",
    "    binary_cats=[]\n",
    "    multi_cats=[]\n",
    "\n",
    "    for column in categorical_vars.attribute:\n",
    "        if missing_rvals_less_30[column].nunique()==2:\n",
    "            binary_cats.append(column)\n",
    "        else:\n",
    "            multi_cats.append(column)        \n",
    "    \n",
    "    # Re-encode categorical variables\n",
    "    missing_rvals_less_30[\"OST_WEST_KZ\"].replace({'W':1,'O':0}, inplace=True)\n",
    "    missing_rvals_less_30=pd.get_dummies(data=missing_rvals_less_30, columns=multi_cats)\n",
    "    \n",
    "    # Create new features for PRAEGENDE_JUGENDJAHRE\n",
    "    missing_rvals_less_30['PRAEGENDE_JUGENDJAHRE_AM'] = missing_rvals_less_30['PRAEGENDE_JUGENDJAHRE']\n",
    "    missing_rvals_less_30['PRAEGENDE_JUGENDJAHRE_DEC'] = missing_rvals_less_30['PRAEGENDE_JUGENDJAHRE']\n",
    "    \n",
    "    # Create new features for CAMEO_INTL_2015\n",
    "    missing_rvals_less_30['CAMEO_INTL_2015_W'] = missing_rvals_less_30['CAMEO_INTL_2015']\n",
    "    missing_rvals_less_30['CAMEO_INTL_2015_LS'] = missing_rvals_less_30['CAMEO_INTL_2015']\n",
    "    \n",
    "    # Create dictionaries to re-encode mixed variables\n",
    "    # PRAEGENDE_JUGENDJAHRE\n",
    "    dict_dec = {1:40, 2:40, 3:50, 4:50, 5:60, 6:60, 7:60, 8:70, 9:70, 10:80, 11:80, 12:80, 13:80, 14:90, 15:90}\n",
    "    dict_am = {1:1, 2:0, 3:1, 4:0, 5:1, 6:0, 7:0, 8:1, 9:0, 10:1, 11:0, 12:1, 13:0, 14:1, 15:0}\n",
    "    \n",
    "    # CAMEO_INTL_2015\n",
    "    wealth_dict= {'11':1,'12':1,'13':1,'14':1,'15':1,\n",
    "                '21':2,'22':2,'23':2,'24':2,'25':2,\n",
    "                '31':3,'32':3,'33':3,'34':3,'35':3,\n",
    "                '41':4,'42':4,'43':4,'44':4,'45':4,\n",
    "                '51':5,'52':5,'53':5,'54':5,'55':5\n",
    "                }\n",
    "    lifestage_dict= {'11':1,'12':2,'13':3,'14':4,'15':5,\n",
    "                '21':1,'22':2,'23':3,'24':4,'25':5,\n",
    "                '31':1,'32':2,'33':4,'34':4,'35':5,\n",
    "                '41':1,'42':2,'43':3,'44':4,'45':5,\n",
    "                '51':1,'52':2,'53':3,'54':4,'55':5\n",
    "                }\n",
    "    # Replace values\n",
    "    missing_rvals_less_30.PRAEGENDE_JUGENDJAHRE_DEC = missing_rvals_less_30.PRAEGENDE_JUGENDJAHRE_DEC.replace (dict_dec)\n",
    "    missing_rvals_less_30.PRAEGENDE_JUGENDJAHRE_AM = missing_rvals_less_30.PRAEGENDE_JUGENDJAHRE_AM.replace (dict_am)\n",
    "    \n",
    "    missing_rvals_less_30.CAMEO_INTL_2015_W = missing_rvals_less_30.CAMEO_INTL_2015_W.replace(wealth_dict)  \n",
    "    missing_rvals_less_30.CAMEO_INTL_2015_LS = missing_rvals_less_30.CAMEO_INTL_2015_LS.replace(lifestage_dict)\n",
    "    \n",
    "    # drop PRAEGENDE_JUGENDJAHRE, CAMEO_INTL_2015 and remaining mixed-type features\n",
    "    missing_rvals_less_30.drop(\"PRAEGENDE_JUGENDJAHRE\", axis=1, inplace=True)\n",
    "    missing_rvals_less_30.drop(\"CAMEO_INTL_2015\", axis=1, inplace=True)\n",
    "    mixed_features = feat_info2[feat_info2[\"type\"]==\"mixed\"][\"attribute\"]\n",
    "    for feature in mixed_features:\n",
    "        if feature in missing_rvals_less_30.columns:\n",
    "            missing_rvals_less_30.drop(feature, axis=1, inplace=True)\n",
    "    \n",
    "    # Return the cleaned dataframe.\n",
    "    return missing_rvals_less_30\n",
    "    "
   ]
  },
  {
   "cell_type": "markdown",
   "metadata": {},
   "source": [
    "## Step 2: Feature Transformation\n",
    "\n",
    "### Step 2.1: Apply Feature Scaling\n",
    "\n",
    "Before we apply dimensionality reduction techniques to the data, we need to perform feature scaling so that the principal component vectors are not influenced by the natural differences in scale for features. Starting from this part of the project, you'll want to keep an eye on the [API reference page for sklearn](http://scikit-learn.org/stable/modules/classes.html) to help you navigate to all of the classes and functions that you'll need. In this substep, you'll need to check the following:\n",
    "\n",
    "- sklearn requires that data not have missing values in order for its estimators to work properly. So, before applying the scaler to your data, make sure that you've cleaned the DataFrame of the remaining missing values. This can be as simple as just removing all data points with missing data, or applying an [Imputer](https://scikit-learn.org/0.16/modules/generated/sklearn.preprocessing.Imputer.html) to replace all missing values. You might also try a more complicated procedure where you temporarily remove missing values in order to compute the scaling parameters before re-introducing those missing values and applying imputation. Think about how much missing data you have and what possible effects each approach might have on your analysis, and justify your decision in the discussion section below.\n",
    "- For the actual scaling function, a [StandardScaler](http://scikit-learn.org/stable/modules/generated/sklearn.preprocessing.StandardScaler.html) instance is suggested, scaling each feature to mean 0 and standard deviation 1.\n",
    "- For these classes, you can make use of the `.fit_transform()` method to both fit a procedure to the data as well as apply the transformation to the data at the same time. Don't forget to keep the fit sklearn objects handy, since you'll be applying them to the customer demographics data towards the end of the project."
   ]
  },
  {
   "cell_type": "code",
   "execution_count": 15,
   "metadata": {},
   "outputs": [],
   "source": [
    "# If you've not yet cleaned the dataset of all NaN values, then investigate and\n",
    "# do that now.\n",
    "fill_missing = Imputer(strategy='mean')"
   ]
  },
  {
   "cell_type": "code",
   "execution_count": 49,
   "metadata": {},
   "outputs": [],
   "source": [
    "rmrl_30_imputed = pd.DataFrame(fill_missing.fit_transform(rmrl_30))"
   ]
  },
  {
   "cell_type": "code",
   "execution_count": 50,
   "metadata": {},
   "outputs": [],
   "source": [
    "rmrl_30_imputed.columns = rmrl_30.columns\n",
    "rmrl_30_imputed.index = rmrl_30.index"
   ]
  },
  {
   "cell_type": "code",
   "execution_count": 51,
   "metadata": {},
   "outputs": [
    {
     "data": {
      "text/plain": [
       "0"
      ]
     },
     "execution_count": 51,
     "metadata": {},
     "output_type": "execute_result"
    }
   ],
   "source": [
    "rmrl_30_imputed.isnull().sum().sum()"
   ]
  },
  {
   "cell_type": "code",
   "execution_count": 52,
   "metadata": {},
   "outputs": [],
   "source": [
    "# Apply feature scaling to the general population demographics data.\n",
    "scaler = StandardScaler() \n",
    "rmrl_30_scaled = scaler.fit_transform(rmrl_30_imputed)"
   ]
  },
  {
   "cell_type": "code",
   "execution_count": 53,
   "metadata": {},
   "outputs": [],
   "source": [
    "rmrl_30_scaled = pd.DataFrame(rmrl_30_scaled, columns=list(rmrl_30_imputed))"
   ]
  },
  {
   "cell_type": "code",
   "execution_count": 54,
   "metadata": {},
   "outputs": [
    {
     "data": {
      "text/html": [
       "<div>\n",
       "<style scoped>\n",
       "    .dataframe tbody tr th:only-of-type {\n",
       "        vertical-align: middle;\n",
       "    }\n",
       "\n",
       "    .dataframe tbody tr th {\n",
       "        vertical-align: top;\n",
       "    }\n",
       "\n",
       "    .dataframe thead th {\n",
       "        text-align: right;\n",
       "    }\n",
       "</style>\n",
       "<table border=\"1\" class=\"dataframe\">\n",
       "  <thead>\n",
       "    <tr style=\"text-align: right;\">\n",
       "      <th></th>\n",
       "      <th>ALTERSKATEGORIE_GROB</th>\n",
       "      <th>ANREDE_KZ</th>\n",
       "      <th>FINANZ_MINIMALIST</th>\n",
       "      <th>FINANZ_SPARER</th>\n",
       "      <th>FINANZ_VORSORGER</th>\n",
       "      <th>FINANZ_ANLEGER</th>\n",
       "      <th>FINANZ_UNAUFFAELLIGER</th>\n",
       "      <th>FINANZ_HAUSBAUER</th>\n",
       "      <th>GREEN_AVANTGARDE</th>\n",
       "      <th>HEALTH_TYP</th>\n",
       "      <th>...</th>\n",
       "      <th>CAMEO_DEU_2015_8D</th>\n",
       "      <th>CAMEO_DEU_2015_9A</th>\n",
       "      <th>CAMEO_DEU_2015_9B</th>\n",
       "      <th>CAMEO_DEU_2015_9C</th>\n",
       "      <th>CAMEO_DEU_2015_9D</th>\n",
       "      <th>CAMEO_DEU_2015_9E</th>\n",
       "      <th>PRAEGENDE_JUGENDJAHRE_AM</th>\n",
       "      <th>PRAEGENDE_JUGENDJAHRE_DEC</th>\n",
       "      <th>CAMEO_INTL_2015_W</th>\n",
       "      <th>CAMEO_INTL_2015_LS</th>\n",
       "    </tr>\n",
       "  </thead>\n",
       "  <tbody>\n",
       "    <tr>\n",
       "      <th>0</th>\n",
       "      <td>-1.766064</td>\n",
       "      <td>0.957914</td>\n",
       "      <td>-1.494594</td>\n",
       "      <td>1.537924</td>\n",
       "      <td>-1.040692</td>\n",
       "      <td>1.465965</td>\n",
       "      <td>0.958645</td>\n",
       "      <td>1.339314</td>\n",
       "      <td>-0.530409</td>\n",
       "      <td>1.085947</td>\n",
       "      <td>...</td>\n",
       "      <td>-0.150064</td>\n",
       "      <td>-0.162542</td>\n",
       "      <td>-0.189539</td>\n",
       "      <td>-0.179782</td>\n",
       "      <td>-0.192768</td>\n",
       "      <td>-0.089764</td>\n",
       "      <td>0.553151</td>\n",
       "      <td>1.165685</td>\n",
       "      <td>1.191320</td>\n",
       "      <td>-1.270426</td>\n",
       "    </tr>\n",
       "    <tr>\n",
       "      <th>1</th>\n",
       "      <td>0.201243</td>\n",
       "      <td>0.957914</td>\n",
       "      <td>-1.494594</td>\n",
       "      <td>0.864563</td>\n",
       "      <td>-1.766980</td>\n",
       "      <td>-0.570998</td>\n",
       "      <td>0.244119</td>\n",
       "      <td>1.339314</td>\n",
       "      <td>1.885336</td>\n",
       "      <td>1.085947</td>\n",
       "      <td>...</td>\n",
       "      <td>-0.150064</td>\n",
       "      <td>-0.162542</td>\n",
       "      <td>-0.189539</td>\n",
       "      <td>-0.179782</td>\n",
       "      <td>-0.192768</td>\n",
       "      <td>-0.089764</td>\n",
       "      <td>-1.875397</td>\n",
       "      <td>1.165685</td>\n",
       "      <td>-0.865171</td>\n",
       "      <td>0.750854</td>\n",
       "    </tr>\n",
       "    <tr>\n",
       "      <th>2</th>\n",
       "      <td>1.184897</td>\n",
       "      <td>0.957914</td>\n",
       "      <td>0.683144</td>\n",
       "      <td>-0.482158</td>\n",
       "      <td>1.138172</td>\n",
       "      <td>-0.570998</td>\n",
       "      <td>-1.184933</td>\n",
       "      <td>-0.791205</td>\n",
       "      <td>-0.530409</td>\n",
       "      <td>-0.269817</td>\n",
       "      <td>...</td>\n",
       "      <td>-0.150064</td>\n",
       "      <td>-0.162542</td>\n",
       "      <td>-0.189539</td>\n",
       "      <td>-0.179782</td>\n",
       "      <td>-0.192768</td>\n",
       "      <td>-0.089764</td>\n",
       "      <td>0.553151</td>\n",
       "      <td>-0.232024</td>\n",
       "      <td>-1.550667</td>\n",
       "      <td>-0.596666</td>\n",
       "    </tr>\n",
       "    <tr>\n",
       "      <th>3</th>\n",
       "      <td>0.201243</td>\n",
       "      <td>-1.043935</td>\n",
       "      <td>0.683144</td>\n",
       "      <td>0.191203</td>\n",
       "      <td>0.411884</td>\n",
       "      <td>-1.249985</td>\n",
       "      <td>0.244119</td>\n",
       "      <td>-0.791205</td>\n",
       "      <td>-0.530409</td>\n",
       "      <td>1.085947</td>\n",
       "      <td>...</td>\n",
       "      <td>-0.150064</td>\n",
       "      <td>-0.162542</td>\n",
       "      <td>-0.189539</td>\n",
       "      <td>-0.179782</td>\n",
       "      <td>-0.192768</td>\n",
       "      <td>-0.089764</td>\n",
       "      <td>0.553151</td>\n",
       "      <td>-0.232024</td>\n",
       "      <td>0.505823</td>\n",
       "      <td>0.077094</td>\n",
       "    </tr>\n",
       "    <tr>\n",
       "      <th>4</th>\n",
       "      <td>-1.766064</td>\n",
       "      <td>0.957914</td>\n",
       "      <td>-0.042768</td>\n",
       "      <td>-1.155518</td>\n",
       "      <td>1.138172</td>\n",
       "      <td>-0.570998</td>\n",
       "      <td>-0.470407</td>\n",
       "      <td>1.339314</td>\n",
       "      <td>-0.530409</td>\n",
       "      <td>1.085947</td>\n",
       "      <td>...</td>\n",
       "      <td>-0.150064</td>\n",
       "      <td>-0.162542</td>\n",
       "      <td>-0.189539</td>\n",
       "      <td>-0.179782</td>\n",
       "      <td>-0.192768</td>\n",
       "      <td>-0.089764</td>\n",
       "      <td>0.553151</td>\n",
       "      <td>-1.629732</td>\n",
       "      <td>1.191320</td>\n",
       "      <td>0.750854</td>\n",
       "    </tr>\n",
       "  </tbody>\n",
       "</table>\n",
       "<p>5 rows × 192 columns</p>\n",
       "</div>"
      ],
      "text/plain": [
       "   ALTERSKATEGORIE_GROB  ANREDE_KZ  FINANZ_MINIMALIST  FINANZ_SPARER  \\\n",
       "0             -1.766064   0.957914          -1.494594       1.537924   \n",
       "1              0.201243   0.957914          -1.494594       0.864563   \n",
       "2              1.184897   0.957914           0.683144      -0.482158   \n",
       "3              0.201243  -1.043935           0.683144       0.191203   \n",
       "4             -1.766064   0.957914          -0.042768      -1.155518   \n",
       "\n",
       "   FINANZ_VORSORGER  FINANZ_ANLEGER  FINANZ_UNAUFFAELLIGER  FINANZ_HAUSBAUER  \\\n",
       "0         -1.040692        1.465965               0.958645          1.339314   \n",
       "1         -1.766980       -0.570998               0.244119          1.339314   \n",
       "2          1.138172       -0.570998              -1.184933         -0.791205   \n",
       "3          0.411884       -1.249985               0.244119         -0.791205   \n",
       "4          1.138172       -0.570998              -0.470407          1.339314   \n",
       "\n",
       "   GREEN_AVANTGARDE  HEALTH_TYP         ...          CAMEO_DEU_2015_8D  \\\n",
       "0         -0.530409    1.085947         ...                  -0.150064   \n",
       "1          1.885336    1.085947         ...                  -0.150064   \n",
       "2         -0.530409   -0.269817         ...                  -0.150064   \n",
       "3         -0.530409    1.085947         ...                  -0.150064   \n",
       "4         -0.530409    1.085947         ...                  -0.150064   \n",
       "\n",
       "   CAMEO_DEU_2015_9A  CAMEO_DEU_2015_9B  CAMEO_DEU_2015_9C  CAMEO_DEU_2015_9D  \\\n",
       "0          -0.162542          -0.189539          -0.179782          -0.192768   \n",
       "1          -0.162542          -0.189539          -0.179782          -0.192768   \n",
       "2          -0.162542          -0.189539          -0.179782          -0.192768   \n",
       "3          -0.162542          -0.189539          -0.179782          -0.192768   \n",
       "4          -0.162542          -0.189539          -0.179782          -0.192768   \n",
       "\n",
       "   CAMEO_DEU_2015_9E  PRAEGENDE_JUGENDJAHRE_AM  PRAEGENDE_JUGENDJAHRE_DEC  \\\n",
       "0          -0.089764                  0.553151                   1.165685   \n",
       "1          -0.089764                 -1.875397                   1.165685   \n",
       "2          -0.089764                  0.553151                  -0.232024   \n",
       "3          -0.089764                  0.553151                  -0.232024   \n",
       "4          -0.089764                  0.553151                  -1.629732   \n",
       "\n",
       "   CAMEO_INTL_2015_W  CAMEO_INTL_2015_LS  \n",
       "0           1.191320           -1.270426  \n",
       "1          -0.865171            0.750854  \n",
       "2          -1.550667           -0.596666  \n",
       "3           0.505823            0.077094  \n",
       "4           1.191320            0.750854  \n",
       "\n",
       "[5 rows x 192 columns]"
      ]
     },
     "execution_count": 54,
     "metadata": {},
     "output_type": "execute_result"
    }
   ],
   "source": [
    "rmrl_30_scaled.head()"
   ]
  },
  {
   "cell_type": "markdown",
   "metadata": {},
   "source": [
    "### Discussion 2.1: Apply Feature Scaling\n",
    "\n",
    "Instead of removing missing values and losing that data, I decided to impute the missing values with the mean. I used the standard scaler as recommended above. "
   ]
  },
  {
   "cell_type": "markdown",
   "metadata": {},
   "source": [
    "### Step 2.2: Perform Dimensionality Reduction\n",
    "\n",
    "On your scaled data, you are now ready to apply dimensionality reduction techniques.\n",
    "\n",
    "- Use sklearn's [PCA](http://scikit-learn.org/stable/modules/generated/sklearn.decomposition.PCA.html) class to apply principal component analysis on the data, thus finding the vectors of maximal variance in the data. To start, you should not set any parameters (so all components are computed) or set a number of components that is at least half the number of features (so there's enough features to see the general trend in variability).\n",
    "- Check out the ratio of variance explained by each principal component as well as the cumulative variance explained. Try plotting the cumulative or sequential values using matplotlib's [`plot()`](https://matplotlib.org/api/_as_gen/matplotlib.pyplot.plot.html) function. Based on what you find, select a value for the number of transformed features you'll retain for the clustering part of the project.\n",
    "- Once you've made a choice for the number of components to keep, make sure you re-fit a PCA instance to perform the decided-on transformation."
   ]
  },
  {
   "cell_type": "code",
   "execution_count": 55,
   "metadata": {},
   "outputs": [
    {
     "data": {
      "text/plain": [
       "PCA(copy=True, iterated_power='auto', n_components=None, random_state=None,\n",
       "  svd_solver='auto', tol=0.0, whiten=False)"
      ]
     },
     "execution_count": 55,
     "metadata": {},
     "output_type": "execute_result"
    }
   ],
   "source": [
    "# Apply PCA to the data.\n",
    "pca= PCA()\n",
    "pca.fit(rmrl_30_scaled)"
   ]
  },
  {
   "cell_type": "code",
   "execution_count": 56,
   "metadata": {},
   "outputs": [
    {
     "data": {
      "image/png": "[encoded data removed]",
      "text/plain": [
       "<matplotlib.figure.Figure at 0x7fb45e5ccc18>"
      ]
     },
     "metadata": {
      "needs_background": "light"
     },
     "output_type": "display_data"
    }
   ],
   "source": [
    "# Investigate the variance accounted for by each principal component.\n",
    "plt.bar(range(len(pca.explained_variance_ratio_)), pca.explained_variance_ratio_)\n",
    "plt.title(\"Variance explained by components\")\n",
    "plt.xlabel(\"Principal component\")\n",
    "plt.ylabel(\"Ratio of variance explained\")\n",
    "plt.show()\n"
   ]
  },
  {
   "cell_type": "code",
   "execution_count": 57,
   "metadata": {},
   "outputs": [
    {
     "data": {
      "image/png": "[encoded data removed]",
      "text/plain": [
       "<matplotlib.figure.Figure at 0x7fb45e636c18>"
      ]
     },
     "metadata": {
      "needs_background": "light"
     },
     "output_type": "display_data"
    }
   ],
   "source": [
    "plt.plot(range(len(pca.explained_variance_ratio_)),np.cumsum(pca.explained_variance_ratio_), '-')\n",
    "plt.title(\"Cumulative Variance\")\n",
    "plt.xlabel(\"Number of Components\")\n",
    "plt.ylabel(\"Ratio of Variance Explained\")\n",
    "plt.show()"
   ]
  },
  {
   "cell_type": "code",
   "execution_count": 58,
   "metadata": {},
   "outputs": [],
   "source": [
    "# Re-apply PCA to the data while selecting for number of components to retain.\n",
    "pca_100 = PCA(n_components=100)\n",
    "rmrl_30_pca = pca_100.fit_transform(rmrl_30_scaled)"
   ]
  },
  {
   "cell_type": "markdown",
   "metadata": {},
   "source": [
    "### Discussion 2.2: Perform Dimensionality Reduction\n",
    "\n",
    "(Double-click this cell and replace this text with your own text, reporting your findings and decisions regarding dimensionality reduction. How many principal components / transformed features are you retaining for the next step of the analysis?)  \n",
    "I retained 100 components which captures over 80% of the data while reducing the number of features by about half. "
   ]
  },
  {
   "cell_type": "markdown",
   "metadata": {},
   "source": [
    "### Step 2.3: Interpret Principal Components\n",
    "\n",
    "Now that we have our transformed principal components, it's a nice idea to check out the weight of each variable on the first few components to see if they can be interpreted in some fashion.\n",
    "\n",
    "As a reminder, each principal component is a unit vector that points in the direction of highest variance (after accounting for the variance captured by earlier principal components). The further a weight is from zero, the more the principal component is in the direction of the corresponding feature. If two features have large weights of the same sign (both positive or both negative), then increases in one tend expect to be associated with increases in the other. To contrast, features with different signs can be expected to show a negative correlation: increases in one variable should result in a decrease in the other.\n",
    "\n",
    "- To investigate the features, you should map each weight to their corresponding feature name, then sort the features according to weight. The most interesting features for each principal component, then, will be those at the beginning and end of the sorted list. Use the data dictionary document to help you understand these most prominent features, their relationships, and what a positive or negative value on the principal component might indicate.\n",
    "- You should investigate and interpret feature associations from the first three principal components in this substep. To help facilitate this, you should write a function that you can call at any time to print the sorted list of feature weights, for the *i*-th principal component. This might come in handy in the next step of the project, when you interpret the tendencies of the discovered clusters."
   ]
  },
  {
   "cell_type": "code",
   "execution_count": 59,
   "metadata": {},
   "outputs": [],
   "source": [
    "# Map weights for the first principal component to corresponding feature names\n",
    "# and then print the linked values, sorted by weight.\n",
    "# HINT: Try defining a function here or in a new cell that you can reuse in the\n",
    "# other cells.\n",
    "def pca_feature_weights(pca, i):\n",
    "    df = pd.DataFrame(pca.components_, columns=list(rmrl_30_scaled.columns))\n",
    "    df_weights = df.iloc[i].sort_values(ascending=False)\n",
    "    return df_weights\n"
   ]
  },
  {
   "cell_type": "code",
   "execution_count": 60,
   "metadata": {
    "scrolled": true
   },
   "outputs": [
    {
     "data": {
      "text/plain": [
       "LP_STATUS_GROB_1.0           0.196743\n",
       "HH_EINKOMMEN_SCORE           0.186821\n",
       "CAMEO_INTL_2015_W            0.186738\n",
       "PLZ8_ANTG3                   0.182568\n",
       "PLZ8_ANTG4                   0.176685\n",
       "ORTSGR_KLS9                  0.155020\n",
       "EWDICHTE                     0.153694\n",
       "FINANZ_HAUSBAUER             0.149660\n",
       "LP_STATUS_FEIN_1.0           0.127829\n",
       "KBA05_ANTG4                  0.127628\n",
       "PLZ8_ANTG2                   0.125324\n",
       "LP_STATUS_FEIN_2.0           0.116429\n",
       "ANZ_HAUSHALTE_AKTIV          0.115978\n",
       "FINANZ_SPARER                0.115546\n",
       "KBA05_ANTG3                  0.115237\n",
       "CAMEO_DEUG_2015_9            0.114588\n",
       "ARBEIT                       0.114112\n",
       "FINANZTYP_1                  0.113854\n",
       "RELAT_AB                     0.107894\n",
       "PRAEGENDE_JUGENDJAHRE_AM     0.102883\n",
       "CAMEO_DEUG_2015_8            0.093172\n",
       "LP_FAMILIE_FEIN_1.0          0.086895\n",
       "LP_FAMILIE_GROB_1.0          0.086895\n",
       "SEMIO_PFLICHT                0.084233\n",
       "SEMIO_REL                    0.079678\n",
       "ZABEOTYP_5                   0.076542\n",
       "PRAEGENDE_JUGENDJAHRE_DEC    0.073582\n",
       "SEMIO_RAT                    0.069807\n",
       "GEBAEUDETYP_3.0              0.067713\n",
       "CAMEO_DEU_2015_8A            0.064320\n",
       "                               ...   \n",
       "FINANZTYP_3                 -0.053265\n",
       "ONLINE_AFFINITAET           -0.054495\n",
       "KBA13_ANZAHL_PKW            -0.061224\n",
       "LP_FAMILIE_GROB_5.0         -0.064856\n",
       "CAMEO_DEUG_2015_3           -0.066046\n",
       "NATIONALITAET_KZ_1.0        -0.066682\n",
       "CAMEO_DEUG_2015_4           -0.072551\n",
       "FINANZTYP_2                 -0.078521\n",
       "ANZ_PERSONEN                -0.083126\n",
       "FINANZ_VORSORGER            -0.084248\n",
       "ALTERSKATEGORIE_GROB        -0.084559\n",
       "CAMEO_DEUG_2015_2           -0.089142\n",
       "GEBAEUDETYP_1.0             -0.089159\n",
       "BALLRAUM                    -0.096508\n",
       "ZABEOTYP_1                  -0.096540\n",
       "GEBAEUDETYP_RASTER          -0.097336\n",
       "GREEN_AVANTGARDE            -0.105173\n",
       "LP_STATUS_FEIN_9.0          -0.109963\n",
       "CAMEO_INTL_2015_LS          -0.112131\n",
       "LP_STATUS_GROB_4.0          -0.112156\n",
       "LP_STATUS_FEIN_10.0         -0.114985\n",
       "LP_STATUS_GROB_5.0          -0.114985\n",
       "INNENSTADT                  -0.127611\n",
       "PLZ8_GBZ                    -0.133822\n",
       "KONSUMNAEHE                 -0.136743\n",
       "KBA05_GBZ                   -0.182296\n",
       "PLZ8_ANTG1                  -0.183237\n",
       "FINANZ_MINIMALIST           -0.192132\n",
       "KBA05_ANTG1                 -0.192287\n",
       "MOBI_REGIO                  -0.205268\n",
       "Name: 0, Length: 192, dtype: float64"
      ]
     },
     "execution_count": 60,
     "metadata": {},
     "output_type": "execute_result"
    }
   ],
   "source": [
    "pca0= pca_feature_weights(pca_100, 0)\n",
    "pca0"
   ]
  },
  {
   "cell_type": "code",
   "execution_count": 61,
   "metadata": {
    "scrolled": true
   },
   "outputs": [
    {
     "data": {
      "text/plain": [
       "ALTERSKATEGORIE_GROB         0.233074\n",
       "FINANZ_VORSORGER             0.219101\n",
       "ZABEOTYP_3                   0.200228\n",
       "SEMIO_ERL                    0.180073\n",
       "SEMIO_LUST                   0.163739\n",
       "RETOURTYP_BK_S               0.155760\n",
       "W_KEIT_KIND_HH               0.127978\n",
       "CJT_GESAMTTYP_2.0            0.108320\n",
       "FINANZTYP_5                  0.097974\n",
       "LP_STATUS_FEIN_1.0           0.097230\n",
       "FINANZTYP_2                  0.091727\n",
       "FINANZ_HAUSBAUER             0.087911\n",
       "FINANZ_MINIMALIST            0.087026\n",
       "SHOPPER_TYP_3.0              0.073643\n",
       "SEMIO_KRIT                   0.072437\n",
       "CJT_GESAMTTYP_1.0            0.070762\n",
       "FINANZTYP_6                  0.067951\n",
       "NATIONALITAET_KZ_1.0         0.066251\n",
       "PLZ8_ANTG3                   0.065858\n",
       "EWDICHTE                     0.064450\n",
       "ORTSGR_KLS9                  0.063225\n",
       "PLZ8_ANTG4                   0.062103\n",
       "CAMEO_INTL_2015_W            0.059982\n",
       "LP_FAMILIE_FEIN_1.0          0.059743\n",
       "LP_FAMILIE_GROB_1.0          0.059743\n",
       "GFK_URLAUBERTYP_4.0          0.059243\n",
       "SEMIO_KAEM                   0.057534\n",
       "WOHNDAUER_2008               0.055089\n",
       "LP_STATUS_FEIN_3.0           0.050324\n",
       "ARBEIT                       0.050246\n",
       "                               ...   \n",
       "HEALTH_TYP                  -0.052052\n",
       "CJT_GESAMTTYP_4.0           -0.054915\n",
       "KBA05_ANTG1                 -0.056055\n",
       "ZABEOTYP_1                  -0.060366\n",
       "SEMIO_SOZ                   -0.061906\n",
       "KBA05_GBZ                   -0.062741\n",
       "MOBI_REGIO                  -0.063317\n",
       "ANZ_PERSONEN                -0.064697\n",
       "PLZ8_ANTG1                  -0.064704\n",
       "LP_FAMILIE_GROB_4.0         -0.070152\n",
       "GFK_URLAUBERTYP_9.0         -0.073228\n",
       "FINANZTYP_3                 -0.076513\n",
       "LP_STATUS_FEIN_5.0          -0.081586\n",
       "FINANZTYP_4                 -0.088444\n",
       "ZABEOTYP_5                  -0.090015\n",
       "LP_STATUS_FEIN_2.0          -0.092386\n",
       "ZABEOTYP_4                  -0.105813\n",
       "SEMIO_MAT                   -0.130453\n",
       "FINANZTYP_1                 -0.131560\n",
       "SEMIO_FAM                   -0.133899\n",
       "ONLINE_AFFINITAET           -0.162618\n",
       "SEMIO_KULT                  -0.164373\n",
       "SEMIO_RAT                   -0.168400\n",
       "FINANZ_ANLEGER              -0.203399\n",
       "SEMIO_PFLICHT               -0.204986\n",
       "SEMIO_TRADV                 -0.208072\n",
       "SEMIO_REL                   -0.213956\n",
       "FINANZ_UNAUFFAELLIGER       -0.215564\n",
       "FINANZ_SPARER               -0.226797\n",
       "PRAEGENDE_JUGENDJAHRE_DEC   -0.237929\n",
       "Name: 1, Length: 192, dtype: float64"
      ]
     },
     "execution_count": 61,
     "metadata": {},
     "output_type": "execute_result"
    }
   ],
   "source": [
    "# Map weights for the second principal component to corresponding feature names\n",
    "# and then print the linked values, sorted by weight.\n",
    "\n",
    "pca1= pca_feature_weights(pca_100, 1)\n",
    "pca1"
   ]
  },
  {
   "cell_type": "code",
   "execution_count": 62,
   "metadata": {
    "scrolled": true
   },
   "outputs": [
    {
     "data": {
      "text/plain": [
       "SEMIO_VERT                   0.319115\n",
       "SEMIO_FAM                    0.260981\n",
       "SEMIO_SOZ                    0.257269\n",
       "SEMIO_KULT                   0.252086\n",
       "FINANZTYP_5                  0.134591\n",
       "FINANZ_MINIMALIST            0.128927\n",
       "SHOPPER_TYP_0.0              0.123049\n",
       "ZABEOTYP_1                   0.116617\n",
       "SEMIO_REL                    0.113435\n",
       "SEMIO_MAT                    0.089152\n",
       "RETOURTYP_BK_S               0.074804\n",
       "GREEN_AVANTGARDE             0.073536\n",
       "W_KEIT_KIND_HH               0.067948\n",
       "EWDICHTE                     0.062087\n",
       "ORTSGR_KLS9                  0.062031\n",
       "SHOPPER_TYP_1.0              0.054984\n",
       "LP_STATUS_GROB_5.0           0.051467\n",
       "LP_STATUS_FEIN_10.0          0.051467\n",
       "ZABEOTYP_6                   0.049853\n",
       "PLZ8_ANTG4                   0.048341\n",
       "PLZ8_ANTG3                   0.048128\n",
       "FINANZ_VORSORGER             0.046866\n",
       "LP_STATUS_FEIN_3.0           0.044645\n",
       "LP_STATUS_FEIN_1.0           0.042984\n",
       "PLZ8_ANTG2                   0.034965\n",
       "RELAT_AB                     0.034474\n",
       "ARBEIT                       0.033466\n",
       "LP_STATUS_GROB_3.0           0.032321\n",
       "GEBAEUDETYP_3.0              0.030566\n",
       "NATIONALITAET_KZ_2.0         0.029531\n",
       "                               ...   \n",
       "LP_STATUS_GROB_2.0          -0.030442\n",
       "PLZ8_GBZ                    -0.033914\n",
       "HH_EINKOMMEN_SCORE          -0.035818\n",
       "ZABEOTYP_3                  -0.036478\n",
       "KKK                         -0.036665\n",
       "LP_FAMILIE_FEIN_4.0         -0.039780\n",
       "GEBAEUDETYP_RASTER          -0.040149\n",
       "PLZ8_ANTG1                  -0.046040\n",
       "FINANZ_UNAUFFAELLIGER       -0.046896\n",
       "KONSUMNAEHE                 -0.047449\n",
       "BALLRAUM                    -0.049019\n",
       "PRAEGENDE_JUGENDJAHRE_DEC   -0.050299\n",
       "SHOPPER_TYP_3.0             -0.053471\n",
       "FINANZ_SPARER               -0.055479\n",
       "INNENSTADT                  -0.055483\n",
       "LP_FAMILIE_GROB_3.0         -0.055859\n",
       "FINANZ_HAUSBAUER            -0.060280\n",
       "ZABEOTYP_4                  -0.064029\n",
       "LP_STATUS_FEIN_4.0          -0.070286\n",
       "PRAEGENDE_JUGENDJAHRE_AM    -0.071141\n",
       "LP_STATUS_FEIN_2.0          -0.079128\n",
       "SHOPPER_TYP_2.0             -0.093038\n",
       "FINANZTYP_1                 -0.100233\n",
       "FINANZ_ANLEGER              -0.152677\n",
       "SEMIO_RAT                   -0.154793\n",
       "SEMIO_ERL                   -0.208397\n",
       "SEMIO_KRIT                  -0.267328\n",
       "SEMIO_DOM                   -0.284349\n",
       "SEMIO_KAEM                  -0.315731\n",
       "ANREDE_KZ                   -0.345533\n",
       "Name: 2, Length: 192, dtype: float64"
      ]
     },
     "execution_count": 62,
     "metadata": {},
     "output_type": "execute_result"
    }
   ],
   "source": [
    "# Map weights for the third principal component to corresponding feature names\n",
    "# and then print the linked values, sorted by weight.\n",
    "\n",
    "pca2= pca_feature_weights(pca_100, 2)\n",
    "pca2"
   ]
  },
  {
   "cell_type": "markdown",
   "metadata": {},
   "source": [
    "### Discussion 2.3: Interpret Principal Components\n",
    "\n",
    "(Double-click this cell and replace this text with your own text, reporting your observations from detailed investigation of the first few principal components generated. Can we interpret positive and negative values from them in a meaningful way?)  \n",
    "Principle component 1  \n",
    "Most prominent positive features:  \n",
    "- LP_STATUS_GROB_1.0 (low income earners)\n",
    "- HH_EINKOMMEN_SCORE (Estimated household net income)\n",
    "- CAMEO_INTL_2015_W  (Wealth)\n",
    "- PLZ8_ANTG3 (Number of 6-10 family houses in the PLZ8 region)  \n",
    "\n",
    "Most prominent negative features:  \n",
    "- PLZ8_ANTG1 (Number of 1-2 family houses in the PLZ8 region)\n",
    "- FINANZ_MINIMALIST (Financial typology:low financial interest) \n",
    "- KBA05_ANTG1 (Number of 1-2 family houses in the microcell)\n",
    "- MOBI_REGIO (Movement patterns)  \n",
    "\n",
    "These features are most impactful in explaining the variation due to priciple component 1. It makes sense that Number of 6-10 family houses would be negatively correlated with Number of 1-2 family houses in the PLZ8 region. It's also intuitive that number of 6-10 family homes would be assiciated with low income earners.\n",
    "\n",
    "Principle component 2  \n",
    "Most prominent positive features:  \n",
    "- ALTERSKATEGORIE_GROB(Estimated age based on given name analysis)\n",
    "- FINANZ_VORSORGER(Financial typology:be prepared)\n",
    "- ZABEOTYP_3.0(Energy consumption typology:fair supplied)\n",
    "- SEMIO_ERL(Personality typology:event-oriented)  \n",
    "\n",
    "Most prominent negative features:  \n",
    "- SEMIO_REL (personality topology: religious)\n",
    "- FINANZ_UNAUFFAELLIGER (Financial typology:inconspicuous) \n",
    "- FINANZ_SPARER (Financial typology:money-saver)\n",
    "- PRAEGENDE_JUGENDJAHRE_DEC (Decade of a persons youth)  \n",
    "  \n",
    "These features are most impactful in explaining the variation due to priciple component 2. It appears a religious personality type is positively correlated with money savers and decade of youth.\n",
    "\n",
    "Most prominent positive features:  \n",
    "- SEMIO_VERT(Personality typology:dreamful)\n",
    "- SEMIO_FAM (Personality typology:family-minded)\n",
    "- SEMIO_SOZ (Personality typology:socially-minded)\n",
    "- SEMIO_KULT (Personality typology: culturally-minded)  \n",
    "\n",
    "Most prominent negative features:  \n",
    "- SEMIO_KRIT (Personality typology:critical-minded)\n",
    "- SEMIO_DOM (Personality typology:dominant-minded)\n",
    "- SEMIO_KAEM (Personality typology:combative attitude)\n",
    "- ANREDE_KZ (Gender:femal,male)  \n",
    "\n",
    "The 3rd component outlines some of the differences in personality types. Looking at each list of personality types, it makes sense that these would be negatively correlated.  \n"
   ]
  },
  {
   "cell_type": "markdown",
   "metadata": {},
   "source": [
    "## Step 3: Clustering\n",
    "\n",
    "### Step 3.1: Apply Clustering to General Population\n",
    "\n",
    "You've assessed and cleaned the demographics data, then scaled and transformed them. Now, it's time to see how the data clusters in the principal components space. In this substep, you will apply k-means clustering to the dataset and use the average within-cluster distances from each point to their assigned cluster's centroid to decide on a number of clusters to keep.\n",
    "\n",
    "- Use sklearn's [KMeans](http://scikit-learn.org/stable/modules/generated/sklearn.cluster.KMeans.html#sklearn.cluster.KMeans) class to perform k-means clustering on the PCA-transformed data.\n",
    "- Then, compute the average difference from each point to its assigned cluster's center. **Hint**: The KMeans object's `.score()` method might be useful here, but note that in sklearn, scores tend to be defined so that larger is better. Try applying it to a small, toy dataset, or use an internet search to help your understanding.\n",
    "- Perform the above two steps for a number of different cluster counts. You can then see how the average distance decreases with an increasing number of clusters. However, each additional cluster provides a smaller net benefit. Use this fact to select a final number of clusters in which to group the data. **Warning**: because of the large size of the dataset, it can take a long time for the algorithm to resolve. The more clusters to fit, the longer the algorithm will take. You should test for cluster counts through at least 10 clusters to get the full picture, but you shouldn't need to test for a number of clusters above about 30.\n",
    "- Once you've selected a final number of clusters to use, re-fit a KMeans instance to perform the clustering operation. Make sure that you also obtain the cluster assignments for the general demographics data, since you'll be using them in the final Step 3.3."
   ]
  },
  {
   "cell_type": "code",
   "execution_count": 63,
   "metadata": {},
   "outputs": [],
   "source": [
    "def k_means_score(data, n_cluster):\n",
    "    kmeans = KMeans(n_clusters = n_cluster)\n",
    "    model = kmeans.fit(data)\n",
    "    score = np.abs(model.score(data))\n",
    "    return score"
   ]
  },
  {
   "cell_type": "code",
   "execution_count": 65,
   "metadata": {},
   "outputs": [],
   "source": [
    "# Over a number of different cluster counts...\n",
    "# run k-means clustering on the data and...\n",
    "# compute the average within-cluster distances.\n",
    "scores = []\n",
    "kms = list(range(1,10))\n",
    "for i in kms:\n",
    "    scores.append(k_means_score(rmrl_30_pca, i))        "
   ]
  },
  {
   "cell_type": "code",
   "execution_count": 66,
   "metadata": {},
   "outputs": [
    {
     "data": {
      "image/png": "[encoded data removed]",
      "text/plain": [
       "<matplotlib.figure.Figure at 0x7fb44623c1d0>"
      ]
     },
     "metadata": {
      "needs_background": "light"
     },
     "output_type": "display_data"
    }
   ],
   "source": [
    "# Investigate the change in within-cluster distance across number of clusters.\n",
    "# HINT: Use matplotlib's plot function to visualize this relationship.\n",
    "plt.plot(kms, scores, linestyle='-', marker='o')\n",
    "plt.xlabel('K')\n",
    "plt.ylabel('SSE')\n",
    "plt.title('SSE vs. K');"
   ]
  },
  {
   "cell_type": "code",
   "execution_count": 68,
   "metadata": {},
   "outputs": [],
   "source": [
    "# Re-fit the k-means model with the selected number of clusters and obtain\n",
    "# cluster predictions for the general population demographics data.\n",
    "kmeans = KMeans(n_clusters = 6)\n",
    "model = kmeans.fit(rmrl_30_pca)\n",
    "rmrl_pred = model.predict(rmrl_30_pca)"
   ]
  },
  {
   "cell_type": "markdown",
   "metadata": {},
   "source": [
    "### Discussion 3.1: Apply Clustering to General Population\n",
    "\n",
    "I initially tried to run it for 20 clusters, but gave up because it took so long. I then changed it to the minimum, 10. Using the elbow method, it looks like 6 clusters would work well as that's where the slope gets more shallow. "
   ]
  },
  {
   "cell_type": "markdown",
   "metadata": {},
   "source": [
    "### Step 3.2: Apply All Steps to the Customer Data\n",
    "\n",
    "Now that you have clusters and cluster centers for the general population, it's time to see how the customer data maps on to those clusters. Take care to not confuse this for re-fitting all of the models to the customer data. Instead, you're going to use the fits from the general population to clean, transform, and cluster the customer data. In the last step of the project, you will interpret how the general population fits apply to the customer data.\n",
    "\n",
    "- Don't forget when loading in the customers data, that it is semicolon (`;`) delimited.\n",
    "- Apply the same feature wrangling, selection, and engineering steps to the customer demographics using the `clean_data()` function you created earlier. (You can assume that the customer demographics data has similar meaning behind missing data patterns as the general demographics data.)\n",
    "- Use the sklearn objects from the general demographics data, and apply their transformations to the customers data. That is, you should not be using a `.fit()` or `.fit_transform()` method to re-fit the old objects, nor should you be creating new sklearn objects! Carry the data through the feature scaling, PCA, and clustering steps, obtaining cluster assignments for all of the data in the customer demographics data."
   ]
  },
  {
   "cell_type": "code",
   "execution_count": 21,
   "metadata": {},
   "outputs": [],
   "source": [
    "# Load in the customer demographics data.\n",
    "customers = pd.read_csv('Udacity_CUSTOMERS_Subset.csv', delimiter=';')"
   ]
  },
  {
   "cell_type": "code",
   "execution_count": 37,
   "metadata": {
    "scrolled": true
   },
   "outputs": [
    {
     "ename": "KeyError",
     "evalue": "\"['ALTER_HH' 'GEBURTSJAHR' 'KBA05_BAUMAX' 'KK_KUNDENTYP' 'AGER_TYP'\\n 'TITEL_KZ'] not found in axis\"",
     "output_type": "error",
     "traceback": [
      "\u001b[0;31m---------------------------------------------------------------------------\u001b[0m",
      "\u001b[0;31mKeyError\u001b[0m                                  Traceback (most recent call last)",
      "\u001b[0;32m<ipython-input-37-818581379e41>\u001b[0m in \u001b[0;36m<module>\u001b[0;34m()\u001b[0m\n\u001b[1;32m      2\u001b[0m \u001b[0;31m# demographics onto the customer data, obtaining cluster predictions for the\u001b[0m\u001b[0;34m\u001b[0m\u001b[0;34m\u001b[0m\u001b[0m\n\u001b[1;32m      3\u001b[0m \u001b[0;31m# customer demographics data.\u001b[0m\u001b[0;34m\u001b[0m\u001b[0;34m\u001b[0m\u001b[0m\n\u001b[0;32m----> 4\u001b[0;31m \u001b[0mcleaned_customers\u001b[0m\u001b[0;34m=\u001b[0m \u001b[0mclean_data\u001b[0m\u001b[0;34m(\u001b[0m\u001b[0mcustomers\u001b[0m\u001b[0;34m,\u001b[0m \u001b[0mfeat_info\u001b[0m\u001b[0;34m)\u001b[0m\u001b[0;34m\u001b[0m\u001b[0m\n\u001b[0m",
      "\u001b[0;32m<ipython-input-36-e361e56cca1b>\u001b[0m in \u001b[0;36mclean_data\u001b[0;34m(df, feat_info)\u001b[0m\n\u001b[1;32m     26\u001b[0m     \u001b[0;31m# Columns:\u001b[0m\u001b[0;34m\u001b[0m\u001b[0;34m\u001b[0m\u001b[0m\n\u001b[1;32m     27\u001b[0m     \u001b[0mcolumns\u001b[0m\u001b[0;34m=\u001b[0m \u001b[0;34m[\u001b[0m\u001b[0;34m'ALTER_HH'\u001b[0m\u001b[0;34m,\u001b[0m \u001b[0;34m'GEBURTSJAHR'\u001b[0m\u001b[0;34m,\u001b[0m \u001b[0;34m'KBA05_BAUMAX'\u001b[0m\u001b[0;34m,\u001b[0m \u001b[0;34m'KK_KUNDENTYP'\u001b[0m\u001b[0;34m,\u001b[0m \u001b[0;34m'AGER_TYP'\u001b[0m\u001b[0;34m,\u001b[0m\u001b[0;34m'TITEL_KZ'\u001b[0m\u001b[0;34m]\u001b[0m\u001b[0;34m\u001b[0m\u001b[0m\n\u001b[0;32m---> 28\u001b[0;31m     \u001b[0mdf\u001b[0m\u001b[0;34m.\u001b[0m\u001b[0mdrop\u001b[0m\u001b[0;34m(\u001b[0m\u001b[0mcolumns\u001b[0m\u001b[0;34m=\u001b[0m\u001b[0mcolumns\u001b[0m\u001b[0;34m,\u001b[0m\u001b[0maxis\u001b[0m\u001b[0;34m=\u001b[0m\u001b[0;34m\"columns\"\u001b[0m\u001b[0;34m,\u001b[0m\u001b[0minplace\u001b[0m\u001b[0;34m=\u001b[0m\u001b[0;32mTrue\u001b[0m\u001b[0;34m)\u001b[0m\u001b[0;34m\u001b[0m\u001b[0m\n\u001b[0m\u001b[1;32m     29\u001b[0m \u001b[0;34m\u001b[0m\u001b[0m\n\u001b[1;32m     30\u001b[0m     \u001b[0;31m# Rows\u001b[0m\u001b[0;34m\u001b[0m\u001b[0;34m\u001b[0m\u001b[0m\n",
      "\u001b[0;32m/opt/conda/lib/python3.6/site-packages/pandas/core/frame.py\u001b[0m in \u001b[0;36mdrop\u001b[0;34m(self, labels, axis, index, columns, level, inplace, errors)\u001b[0m\n\u001b[1;32m   3695\u001b[0m                                            \u001b[0mindex\u001b[0m\u001b[0;34m=\u001b[0m\u001b[0mindex\u001b[0m\u001b[0;34m,\u001b[0m \u001b[0mcolumns\u001b[0m\u001b[0;34m=\u001b[0m\u001b[0mcolumns\u001b[0m\u001b[0;34m,\u001b[0m\u001b[0;34m\u001b[0m\u001b[0m\n\u001b[1;32m   3696\u001b[0m                                            \u001b[0mlevel\u001b[0m\u001b[0;34m=\u001b[0m\u001b[0mlevel\u001b[0m\u001b[0;34m,\u001b[0m \u001b[0minplace\u001b[0m\u001b[0;34m=\u001b[0m\u001b[0minplace\u001b[0m\u001b[0;34m,\u001b[0m\u001b[0;34m\u001b[0m\u001b[0m\n\u001b[0;32m-> 3697\u001b[0;31m                                            errors=errors)\n\u001b[0m\u001b[1;32m   3698\u001b[0m \u001b[0;34m\u001b[0m\u001b[0m\n\u001b[1;32m   3699\u001b[0m     @rewrite_axis_style_signature('mapper', [('copy', True),\n",
      "\u001b[0;32m/opt/conda/lib/python3.6/site-packages/pandas/core/generic.py\u001b[0m in \u001b[0;36mdrop\u001b[0;34m(self, labels, axis, index, columns, level, inplace, errors)\u001b[0m\n\u001b[1;32m   3109\u001b[0m         \u001b[0;32mfor\u001b[0m \u001b[0maxis\u001b[0m\u001b[0;34m,\u001b[0m \u001b[0mlabels\u001b[0m \u001b[0;32min\u001b[0m \u001b[0maxes\u001b[0m\u001b[0;34m.\u001b[0m\u001b[0mitems\u001b[0m\u001b[0;34m(\u001b[0m\u001b[0;34m)\u001b[0m\u001b[0;34m:\u001b[0m\u001b[0;34m\u001b[0m\u001b[0m\n\u001b[1;32m   3110\u001b[0m             \u001b[0;32mif\u001b[0m \u001b[0mlabels\u001b[0m \u001b[0;32mis\u001b[0m \u001b[0;32mnot\u001b[0m \u001b[0;32mNone\u001b[0m\u001b[0;34m:\u001b[0m\u001b[0;34m\u001b[0m\u001b[0m\n\u001b[0;32m-> 3111\u001b[0;31m                 \u001b[0mobj\u001b[0m \u001b[0;34m=\u001b[0m \u001b[0mobj\u001b[0m\u001b[0;34m.\u001b[0m\u001b[0m_drop_axis\u001b[0m\u001b[0;34m(\u001b[0m\u001b[0mlabels\u001b[0m\u001b[0;34m,\u001b[0m \u001b[0maxis\u001b[0m\u001b[0;34m,\u001b[0m \u001b[0mlevel\u001b[0m\u001b[0;34m=\u001b[0m\u001b[0mlevel\u001b[0m\u001b[0;34m,\u001b[0m \u001b[0merrors\u001b[0m\u001b[0;34m=\u001b[0m\u001b[0merrors\u001b[0m\u001b[0;34m)\u001b[0m\u001b[0;34m\u001b[0m\u001b[0m\n\u001b[0m\u001b[1;32m   3112\u001b[0m \u001b[0;34m\u001b[0m\u001b[0m\n\u001b[1;32m   3113\u001b[0m         \u001b[0;32mif\u001b[0m \u001b[0minplace\u001b[0m\u001b[0;34m:\u001b[0m\u001b[0;34m\u001b[0m\u001b[0m\n",
      "\u001b[0;32m/opt/conda/lib/python3.6/site-packages/pandas/core/generic.py\u001b[0m in \u001b[0;36m_drop_axis\u001b[0;34m(self, labels, axis, level, errors)\u001b[0m\n\u001b[1;32m   3141\u001b[0m                 \u001b[0mnew_axis\u001b[0m \u001b[0;34m=\u001b[0m \u001b[0maxis\u001b[0m\u001b[0;34m.\u001b[0m\u001b[0mdrop\u001b[0m\u001b[0;34m(\u001b[0m\u001b[0mlabels\u001b[0m\u001b[0;34m,\u001b[0m \u001b[0mlevel\u001b[0m\u001b[0;34m=\u001b[0m\u001b[0mlevel\u001b[0m\u001b[0;34m,\u001b[0m \u001b[0merrors\u001b[0m\u001b[0;34m=\u001b[0m\u001b[0merrors\u001b[0m\u001b[0;34m)\u001b[0m\u001b[0;34m\u001b[0m\u001b[0m\n\u001b[1;32m   3142\u001b[0m             \u001b[0;32melse\u001b[0m\u001b[0;34m:\u001b[0m\u001b[0;34m\u001b[0m\u001b[0m\n\u001b[0;32m-> 3143\u001b[0;31m                 \u001b[0mnew_axis\u001b[0m \u001b[0;34m=\u001b[0m \u001b[0maxis\u001b[0m\u001b[0;34m.\u001b[0m\u001b[0mdrop\u001b[0m\u001b[0;34m(\u001b[0m\u001b[0mlabels\u001b[0m\u001b[0;34m,\u001b[0m \u001b[0merrors\u001b[0m\u001b[0;34m=\u001b[0m\u001b[0merrors\u001b[0m\u001b[0;34m)\u001b[0m\u001b[0;34m\u001b[0m\u001b[0m\n\u001b[0m\u001b[1;32m   3144\u001b[0m             \u001b[0mresult\u001b[0m \u001b[0;34m=\u001b[0m \u001b[0mself\u001b[0m\u001b[0;34m.\u001b[0m\u001b[0mreindex\u001b[0m\u001b[0;34m(\u001b[0m\u001b[0;34m**\u001b[0m\u001b[0;34m{\u001b[0m\u001b[0maxis_name\u001b[0m\u001b[0;34m:\u001b[0m \u001b[0mnew_axis\u001b[0m\u001b[0;34m}\u001b[0m\u001b[0;34m)\u001b[0m\u001b[0;34m\u001b[0m\u001b[0m\n\u001b[1;32m   3145\u001b[0m \u001b[0;34m\u001b[0m\u001b[0m\n",
      "\u001b[0;32m/opt/conda/lib/python3.6/site-packages/pandas/core/indexes/base.py\u001b[0m in \u001b[0;36mdrop\u001b[0;34m(self, labels, errors)\u001b[0m\n\u001b[1;32m   4402\u001b[0m             \u001b[0;32mif\u001b[0m \u001b[0merrors\u001b[0m \u001b[0;34m!=\u001b[0m \u001b[0;34m'ignore'\u001b[0m\u001b[0;34m:\u001b[0m\u001b[0;34m\u001b[0m\u001b[0m\n\u001b[1;32m   4403\u001b[0m                 raise KeyError(\n\u001b[0;32m-> 4404\u001b[0;31m                     '{} not found in axis'.format(labels[mask]))\n\u001b[0m\u001b[1;32m   4405\u001b[0m             \u001b[0mindexer\u001b[0m \u001b[0;34m=\u001b[0m \u001b[0mindexer\u001b[0m\u001b[0;34m[\u001b[0m\u001b[0;34m~\u001b[0m\u001b[0mmask\u001b[0m\u001b[0;34m]\u001b[0m\u001b[0;34m\u001b[0m\u001b[0m\n\u001b[1;32m   4406\u001b[0m         \u001b[0;32mreturn\u001b[0m \u001b[0mself\u001b[0m\u001b[0;34m.\u001b[0m\u001b[0mdelete\u001b[0m\u001b[0;34m(\u001b[0m\u001b[0mindexer\u001b[0m\u001b[0;34m)\u001b[0m\u001b[0;34m\u001b[0m\u001b[0m\n",
      "\u001b[0;31mKeyError\u001b[0m: \"['ALTER_HH' 'GEBURTSJAHR' 'KBA05_BAUMAX' 'KK_KUNDENTYP' 'AGER_TYP'\\n 'TITEL_KZ'] not found in axis\""
     ]
    }
   ],
   "source": [
    "# Apply preprocessing, feature transformation, and clustering from the general\n",
    "# demographics onto the customer data, obtaining cluster predictions for the\n",
    "# customer demographics data.\n",
    "cleaned_customers= clean_data(customers, feat_info)"
   ]
  },
  {
   "cell_type": "code",
   "execution_count": 88,
   "metadata": {
    "scrolled": false
   },
   "outputs": [
    {
     "data": {
      "text/html": [
       "<div>\n",
       "<style scoped>\n",
       "    .dataframe tbody tr th:only-of-type {\n",
       "        vertical-align: middle;\n",
       "    }\n",
       "\n",
       "    .dataframe tbody tr th {\n",
       "        vertical-align: top;\n",
       "    }\n",
       "\n",
       "    .dataframe thead th {\n",
       "        text-align: right;\n",
       "    }\n",
       "</style>\n",
       "<table border=\"1\" class=\"dataframe\">\n",
       "  <thead>\n",
       "    <tr style=\"text-align: right;\">\n",
       "      <th></th>\n",
       "      <th>ALTERSKATEGORIE_GROB</th>\n",
       "      <th>ANREDE_KZ</th>\n",
       "      <th>FINANZ_MINIMALIST</th>\n",
       "      <th>FINANZ_SPARER</th>\n",
       "      <th>FINANZ_VORSORGER</th>\n",
       "      <th>FINANZ_ANLEGER</th>\n",
       "      <th>FINANZ_UNAUFFAELLIGER</th>\n",
       "      <th>FINANZ_HAUSBAUER</th>\n",
       "      <th>GREEN_AVANTGARDE</th>\n",
       "      <th>HEALTH_TYP</th>\n",
       "      <th>...</th>\n",
       "      <th>CAMEO_DEU_2015_9A</th>\n",
       "      <th>CAMEO_DEU_2015_9B</th>\n",
       "      <th>CAMEO_DEU_2015_9C</th>\n",
       "      <th>CAMEO_DEU_2015_9D</th>\n",
       "      <th>CAMEO_DEU_2015_9E</th>\n",
       "      <th>CAMEO_DEU_2015_XX</th>\n",
       "      <th>PRAEGENDE_JUGENDJAHRE_AM</th>\n",
       "      <th>PRAEGENDE_JUGENDJAHRE_DEC</th>\n",
       "      <th>CAMEO_INTL_2015_W</th>\n",
       "      <th>CAMEO_INTL_2015_LS</th>\n",
       "    </tr>\n",
       "  </thead>\n",
       "  <tbody>\n",
       "    <tr>\n",
       "      <th>0</th>\n",
       "      <td>4</td>\n",
       "      <td>1</td>\n",
       "      <td>5</td>\n",
       "      <td>1</td>\n",
       "      <td>5</td>\n",
       "      <td>1</td>\n",
       "      <td>2</td>\n",
       "      <td>2</td>\n",
       "      <td>1</td>\n",
       "      <td>1</td>\n",
       "      <td>...</td>\n",
       "      <td>0</td>\n",
       "      <td>0</td>\n",
       "      <td>0</td>\n",
       "      <td>0</td>\n",
       "      <td>0</td>\n",
       "      <td>0</td>\n",
       "      <td>0</td>\n",
       "      <td>50</td>\n",
       "      <td>1</td>\n",
       "      <td>3</td>\n",
       "    </tr>\n",
       "    <tr>\n",
       "      <th>1</th>\n",
       "      <td>4</td>\n",
       "      <td>2</td>\n",
       "      <td>5</td>\n",
       "      <td>1</td>\n",
       "      <td>5</td>\n",
       "      <td>1</td>\n",
       "      <td>4</td>\n",
       "      <td>4</td>\n",
       "      <td>1</td>\n",
       "      <td>2</td>\n",
       "      <td>...</td>\n",
       "      <td>0</td>\n",
       "      <td>0</td>\n",
       "      <td>0</td>\n",
       "      <td>0</td>\n",
       "      <td>0</td>\n",
       "      <td>0</td>\n",
       "      <td>0</td>\n",
       "      <td>50</td>\n",
       "      <td>3</td>\n",
       "      <td>4</td>\n",
       "    </tr>\n",
       "    <tr>\n",
       "      <th>2</th>\n",
       "      <td>4</td>\n",
       "      <td>1</td>\n",
       "      <td>5</td>\n",
       "      <td>1</td>\n",
       "      <td>5</td>\n",
       "      <td>2</td>\n",
       "      <td>1</td>\n",
       "      <td>2</td>\n",
       "      <td>0</td>\n",
       "      <td>2</td>\n",
       "      <td>...</td>\n",
       "      <td>0</td>\n",
       "      <td>0</td>\n",
       "      <td>0</td>\n",
       "      <td>0</td>\n",
       "      <td>0</td>\n",
       "      <td>0</td>\n",
       "      <td>1</td>\n",
       "      <td>40</td>\n",
       "      <td>2</td>\n",
       "      <td>4</td>\n",
       "    </tr>\n",
       "    <tr>\n",
       "      <th>3</th>\n",
       "      <td>3</td>\n",
       "      <td>1</td>\n",
       "      <td>3</td>\n",
       "      <td>1</td>\n",
       "      <td>4</td>\n",
       "      <td>4</td>\n",
       "      <td>5</td>\n",
       "      <td>2</td>\n",
       "      <td>0</td>\n",
       "      <td>3</td>\n",
       "      <td>...</td>\n",
       "      <td>0</td>\n",
       "      <td>0</td>\n",
       "      <td>0</td>\n",
       "      <td>0</td>\n",
       "      <td>0</td>\n",
       "      <td>0</td>\n",
       "      <td>1</td>\n",
       "      <td>70</td>\n",
       "      <td>4</td>\n",
       "      <td>1</td>\n",
       "    </tr>\n",
       "    <tr>\n",
       "      <th>4</th>\n",
       "      <td>3</td>\n",
       "      <td>1</td>\n",
       "      <td>5</td>\n",
       "      <td>1</td>\n",
       "      <td>5</td>\n",
       "      <td>1</td>\n",
       "      <td>2</td>\n",
       "      <td>3</td>\n",
       "      <td>1</td>\n",
       "      <td>3</td>\n",
       "      <td>...</td>\n",
       "      <td>0</td>\n",
       "      <td>0</td>\n",
       "      <td>0</td>\n",
       "      <td>0</td>\n",
       "      <td>0</td>\n",
       "      <td>0</td>\n",
       "      <td>0</td>\n",
       "      <td>50</td>\n",
       "      <td>3</td>\n",
       "      <td>4</td>\n",
       "    </tr>\n",
       "  </tbody>\n",
       "</table>\n",
       "<p>5 rows × 199 columns</p>\n",
       "</div>"
      ],
      "text/plain": [
       "   ALTERSKATEGORIE_GROB  ANREDE_KZ  FINANZ_MINIMALIST  FINANZ_SPARER  \\\n",
       "0                     4          1                  5              1   \n",
       "1                     4          2                  5              1   \n",
       "2                     4          1                  5              1   \n",
       "3                     3          1                  3              1   \n",
       "4                     3          1                  5              1   \n",
       "\n",
       "   FINANZ_VORSORGER  FINANZ_ANLEGER  FINANZ_UNAUFFAELLIGER  FINANZ_HAUSBAUER  \\\n",
       "0                 5               1                      2                 2   \n",
       "1                 5               1                      4                 4   \n",
       "2                 5               2                      1                 2   \n",
       "3                 4               4                      5                 2   \n",
       "4                 5               1                      2                 3   \n",
       "\n",
       "   GREEN_AVANTGARDE  HEALTH_TYP         ...          CAMEO_DEU_2015_9A  \\\n",
       "0                 1           1         ...                          0   \n",
       "1                 1           2         ...                          0   \n",
       "2                 0           2         ...                          0   \n",
       "3                 0           3         ...                          0   \n",
       "4                 1           3         ...                          0   \n",
       "\n",
       "   CAMEO_DEU_2015_9B  CAMEO_DEU_2015_9C  CAMEO_DEU_2015_9D  CAMEO_DEU_2015_9E  \\\n",
       "0                  0                  0                  0                  0   \n",
       "1                  0                  0                  0                  0   \n",
       "2                  0                  0                  0                  0   \n",
       "3                  0                  0                  0                  0   \n",
       "4                  0                  0                  0                  0   \n",
       "\n",
       "   CAMEO_DEU_2015_XX  PRAEGENDE_JUGENDJAHRE_AM  PRAEGENDE_JUGENDJAHRE_DEC  \\\n",
       "0                  0                         0                         50   \n",
       "1                  0                         0                         50   \n",
       "2                  0                         1                         40   \n",
       "3                  0                         1                         70   \n",
       "4                  0                         0                         50   \n",
       "\n",
       "   CAMEO_INTL_2015_W  CAMEO_INTL_2015_LS  \n",
       "0                  1                   3  \n",
       "1                  3                   4  \n",
       "2                  2                   4  \n",
       "3                  4                   1  \n",
       "4                  3                   4  \n",
       "\n",
       "[5 rows x 199 columns]"
      ]
     },
     "execution_count": 88,
     "metadata": {},
     "output_type": "execute_result"
    }
   ],
   "source": [
    "cleaned_customers.head()"
   ]
  },
  {
   "cell_type": "code",
   "execution_count": 16,
   "metadata": {},
   "outputs": [
    {
     "ename": "NameError",
     "evalue": "name 'cleaned_customers' is not defined",
     "output_type": "error",
     "traceback": [
      "\u001b[0;31m---------------------------------------------------------------------------\u001b[0m",
      "\u001b[0;31mNameError\u001b[0m                                 Traceback (most recent call last)",
      "\u001b[0;32m<ipython-input-16-cbad1fcb7e0a>\u001b[0m in \u001b[0;36m<module>\u001b[0;34m()\u001b[0m\n\u001b[0;32m----> 1\u001b[0;31m \u001b[0mcleaned_customers_imputed\u001b[0m \u001b[0;34m=\u001b[0m \u001b[0mpd\u001b[0m\u001b[0;34m.\u001b[0m\u001b[0mDataFrame\u001b[0m\u001b[0;34m(\u001b[0m\u001b[0mfill_missing\u001b[0m\u001b[0;34m.\u001b[0m\u001b[0mfit_transform\u001b[0m\u001b[0;34m(\u001b[0m\u001b[0mcleaned_customers\u001b[0m\u001b[0;34m)\u001b[0m\u001b[0;34m)\u001b[0m\u001b[0;34m\u001b[0m\u001b[0m\n\u001b[0m\u001b[1;32m      2\u001b[0m \u001b[0mcleaned_customers_imputed\u001b[0m\u001b[0;34m.\u001b[0m\u001b[0mcolumns\u001b[0m \u001b[0;34m=\u001b[0m \u001b[0mcleaned_customers\u001b[0m\u001b[0;34m.\u001b[0m\u001b[0mcolumns\u001b[0m\u001b[0;34m\u001b[0m\u001b[0m\n\u001b[1;32m      3\u001b[0m \u001b[0mcleaned_customers_imputed\u001b[0m\u001b[0;34m.\u001b[0m\u001b[0mindex\u001b[0m \u001b[0;34m=\u001b[0m \u001b[0mcleaned_customers\u001b[0m\u001b[0;34m.\u001b[0m\u001b[0mindex\u001b[0m\u001b[0;34m\u001b[0m\u001b[0m\n",
      "\u001b[0;31mNameError\u001b[0m: name 'cleaned_customers' is not defined"
     ]
    }
   ],
   "source": [
    "cleaned_customers_imputed = pd.DataFrame(fill_missing.fit_transform(cleaned_customers))\n",
    "cleaned_customers_imputed.columns = cleaned_customers.columns\n",
    "cleaned_customers_imputed.index = cleaned_customers.index"
   ]
  },
  {
   "cell_type": "code",
   "execution_count": null,
   "metadata": {},
   "outputs": [],
   "source": []
  },
  {
   "cell_type": "code",
   "execution_count": null,
   "metadata": {},
   "outputs": [],
   "source": []
  },
  {
   "cell_type": "code",
   "execution_count": null,
   "metadata": {},
   "outputs": [],
   "source": []
  },
  {
   "cell_type": "markdown",
   "metadata": {},
   "source": [
    "### Step 3.3: Compare Customer Data to Demographics Data\n",
    "\n",
    "At this point, you have clustered data based on demographics of the general population of Germany, and seen how the customer data for a mail-order sales company maps onto those demographic clusters. In this final substep, you will compare the two cluster distributions to see where the strongest customer base for the company is.\n",
    "\n",
    "Consider the proportion of persons in each cluster for the general population, and the proportions for the customers. If we think the company's customer base to be universal, then the cluster assignment proportions should be fairly similar between the two. If there are only particular segments of the population that are interested in the company's products, then we should see a mismatch from one to the other. If there is a higher proportion of persons in a cluster for the customer data compared to the general population (e.g. 5% of persons are assigned to a cluster for the general population, but 15% of the customer data is closest to that cluster's centroid) then that suggests the people in that cluster to be a target audience for the company. On the other hand, the proportion of the data in a cluster being larger in the general population than the customer data (e.g. only 2% of customers closest to a population centroid that captures 6% of the data) suggests that group of persons to be outside of the target demographics.\n",
    "\n",
    "Take a look at the following points in this step:\n",
    "\n",
    "- Compute the proportion of data points in each cluster for the general population and the customer data. Visualizations will be useful here: both for the individual dataset proportions, but also to visualize the ratios in cluster representation between groups. Seaborn's [`countplot()`](https://seaborn.pydata.org/generated/seaborn.countplot.html) or [`barplot()`](https://seaborn.pydata.org/generated/seaborn.barplot.html) function could be handy.\n",
    "  - Recall the analysis you performed in step 1.1.3 of the project, where you separated out certain data points from the dataset if they had more than a specified threshold of missing values. If you found that this group was qualitatively different from the main bulk of the data, you should treat this as an additional data cluster in this analysis. Make sure that you account for the number of data points in this subset, for both the general population and customer datasets, when making your computations!\n",
    "- Which cluster or clusters are overrepresented in the customer dataset compared to the general population? Select at least one such cluster and infer what kind of people might be represented by that cluster. Use the principal component interpretations from step 2.3 or look at additional components to help you make this inference. Alternatively, you can use the `.inverse_transform()` method of the PCA and StandardScaler objects to transform centroids back to the original data space and interpret the retrieved values directly.\n",
    "- Perform a similar investigation for the underrepresented clusters. Which cluster or clusters are underrepresented in the customer dataset compared to the general population, and what kinds of people are typified by these clusters?"
   ]
  },
  {
   "cell_type": "code",
   "execution_count": null,
   "metadata": {},
   "outputs": [],
   "source": [
    "# Compare the proportion of data in each cluster for the customer data to the\n",
    "# proportion of data in each cluster for the general population.\n",
    "\n"
   ]
  },
  {
   "cell_type": "code",
   "execution_count": null,
   "metadata": {},
   "outputs": [],
   "source": [
    "# What kinds of people are part of a cluster that is overrepresented in the\n",
    "# customer data compared to the general population?\n",
    "\n"
   ]
  },
  {
   "cell_type": "code",
   "execution_count": null,
   "metadata": {},
   "outputs": [],
   "source": [
    "# What kinds of people are part of a cluster that is underrepresented in the\n",
    "# customer data compared to the general population?\n",
    "\n"
   ]
  },
  {
   "cell_type": "markdown",
   "metadata": {},
   "source": [
    "### Discussion 3.3: Compare Customer Data to Demographics Data\n",
    "\n",
    "(Double-click this cell and replace this text with your own text, reporting findings and conclusions from the clustering analysis. Can we describe segments of the population that are relatively popular with the mail-order company, or relatively unpopular with the company?)"
   ]
  },
  {
   "cell_type": "markdown",
   "metadata": {},
   "source": [
    "> Congratulations on making it this far in the project! Before you finish, make sure to check through the entire notebook from top to bottom to make sure that your analysis follows a logical flow and all of your findings are documented in **Discussion** cells. Once you've checked over all of your work, you should export the notebook as an HTML document to submit for evaluation. You can do this from the menu, navigating to **File -> Download as -> HTML (.html)**. You will submit both that document and this notebook for your project submission."
   ]
  },
  {
   "cell_type": "code",
   "execution_count": null,
   "metadata": {},
   "outputs": [],
   "source": []
  }
 ],
 "metadata": {
  "kernelspec": {
   "display_name": "Python 3",
   "language": "python",
   "name": "python3"
  },
  "language_info": {
   "codemirror_mode": {
    "name": "ipython",
    "version": 3
   },
   "file_extension": ".py",
   "mimetype": "text/x-python",
   "name": "python",
   "nbconvert_exporter": "python",
   "pygments_lexer": "ipython3",
   "version": "3.6.3"
  }
 },
 "nbformat": 4,
 "nbformat_minor": 2
}
